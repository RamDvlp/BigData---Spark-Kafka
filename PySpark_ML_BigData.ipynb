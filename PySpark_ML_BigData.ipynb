{
  "nbformat": 4,
  "nbformat_minor": 0,
  "metadata": {
    "colab": {
      "provenance": []
    },
    "kernelspec": {
      "name": "python3",
      "display_name": "Python 3"
    },
    "language_info": {
      "name": "python"
    }
  },
  "cells": [
    {
      "cell_type": "markdown",
      "source": [],
      "metadata": {
        "id": "bJ0pEtTIASJd"
      }
    },
    {
      "cell_type": "code",
      "source": [
        "!pip install pyspark"
      ],
      "metadata": {
        "colab": {
          "base_uri": "https://localhost:8080/"
        },
        "id": "icpZNSATFWYP",
        "outputId": "d9a12d10-dba5-40e1-cdc1-3aafe9fe7a17"
      },
      "execution_count": 1,
      "outputs": [
        {
          "output_type": "stream",
          "name": "stdout",
          "text": [
            "Collecting pyspark\n",
            "  Downloading pyspark-3.5.1.tar.gz (317.0 MB)\n",
            "\u001b[2K     \u001b[90m━━━━━━━━━━━━━━━━━━━━━━━━━━━━━━━━━━━━━━━━\u001b[0m \u001b[32m317.0/317.0 MB\u001b[0m \u001b[31m2.1 MB/s\u001b[0m eta \u001b[36m0:00:00\u001b[0m\n",
            "\u001b[?25h  Preparing metadata (setup.py) ... \u001b[?25l\u001b[?25hdone\n",
            "Requirement already satisfied: py4j==0.10.9.7 in /usr/local/lib/python3.10/dist-packages (from pyspark) (0.10.9.7)\n",
            "Building wheels for collected packages: pyspark\n",
            "  Building wheel for pyspark (setup.py) ... \u001b[?25l\u001b[?25hdone\n",
            "  Created wheel for pyspark: filename=pyspark-3.5.1-py2.py3-none-any.whl size=317488491 sha256=169649aad97ba9e7b72b51d8398de969560569283ecaf70561687081f553d3cc\n",
            "  Stored in directory: /root/.cache/pip/wheels/80/1d/60/2c256ed38dddce2fdd93be545214a63e02fbd8d74fb0b7f3a6\n",
            "Successfully built pyspark\n",
            "Installing collected packages: pyspark\n",
            "Successfully installed pyspark-3.5.1\n"
          ]
        }
      ]
    },
    {
      "cell_type": "code",
      "source": [
        "from pyspark import SparkContext\n",
        "from pyspark.sql import SQLContext\n",
        "\n",
        "# Initialize SparkContext\n",
        "sc = SparkContext(\"local\", \"Read CSV\")\n"
      ],
      "metadata": {
        "id": "OZTwcfEfQ412"
      },
      "execution_count": 2,
      "outputs": []
    },
    {
      "cell_type": "markdown",
      "source": [
        "Reading CSV File directly as DataFrame using SQLCOntext"
      ],
      "metadata": {
        "id": "KiZG67DKATiD"
      }
    },
    {
      "cell_type": "code",
      "source": [
        "# Initialize SQLContext - directly read the csv as DataFrame\n",
        "sqlContext = SQLContext(sc)\n",
        "\n",
        "# Path to your CSV file\n",
        "csv_file_path = \"/content/drive/MyDrive/Colab Notebooks/BigData/dataFIFA.csv\"\n",
        "\n",
        "# Read the CSV file into a DataFrame\n",
        "df = sqlContext.read.format(\"csv\").option(\"header\", \"true\").load(csv_file_path)\n",
        "\n",
        "# Print the first 10 rows\n",
        "df.show(10)\n",
        "\n",
        "# Show statistics\n",
        "df.describe().show()"
      ],
      "metadata": {
        "colab": {
          "base_uri": "https://localhost:8080/"
        },
        "id": "kWMaL0maQe6M",
        "outputId": "9463183a-27c1-4d78-d43f-eb0d3b37face"
      },
      "execution_count": 3,
      "outputs": [
        {
          "output_type": "stream",
          "name": "stderr",
          "text": [
            "/usr/local/lib/python3.10/dist-packages/pyspark/sql/context.py:113: FutureWarning: Deprecated in 3.0.0. Use SparkSession.builder.getOrCreate() instead.\n",
            "  warnings.warn(\n"
          ]
        },
        {
          "output_type": "stream",
          "name": "stdout",
          "text": [
            "+---+------+-----------------+---+--------------------+-----------+--------------------+-------+---------+-------------------+--------------------+-------+-----+-------+--------------+------------------------+---------+-----------+--------------+----------+---------+--------+-------------+------------+-----------+--------------------+------+------+----+----+----+----+----+----+----+----+----+----+----+----+----+----+----+----+----+----+----+----+----+----+----+----+----+----+--------+---------+---------------+------------+-------+---------+-----+----------+-----------+-----------+------------+-----------+-------+---------+-------+---------+-------+-------+--------+---------+----------+-------------+-----------+------+---------+---------+-------+--------------+-------------+--------+----------+---------+-------------+----------+--------------+\n",
            "|_c0|    ID|             Name|Age|               Photo|Nationality|                Flag|Overall|Potential|               Club|           Club Logo|  Value| Wage|Special|Preferred Foot|International Reputation|Weak Foot|Skill Moves|     Work Rate| Body Type|Real Face|Position|Jersey Number|      Joined|Loaned From|Contract Valid Until|Height|Weight|  LS|  ST|  RS|  LW|  LF|  CF|  RF|  RW| LAM| CAM| RAM|  LM| LCM|  CM| RCM|  RM| LWB| LDM| CDM| RDM| RWB|  LB| LCB|  CB| RCB|  RB|Crossing|Finishing|HeadingAccuracy|ShortPassing|Volleys|Dribbling|Curve|FKAccuracy|LongPassing|BallControl|Acceleration|SprintSpeed|Agility|Reactions|Balance|ShotPower|Jumping|Stamina|Strength|LongShots|Aggression|Interceptions|Positioning|Vision|Penalties|Composure|Marking|StandingTackle|SlidingTackle|GKDiving|GKHandling|GKKicking|GKPositioning|GKReflexes|Release Clause|\n",
            "+---+------+-----------------+---+--------------------+-----------+--------------------+-------+---------+-------------------+--------------------+-------+-----+-------+--------------+------------------------+---------+-----------+--------------+----------+---------+--------+-------------+------------+-----------+--------------------+------+------+----+----+----+----+----+----+----+----+----+----+----+----+----+----+----+----+----+----+----+----+----+----+----+----+----+----+--------+---------+---------------+------------+-------+---------+-----+----------+-----------+-----------+------------+-----------+-------+---------+-------+---------+-------+-------+--------+---------+----------+-------------+-----------+------+---------+---------+-------+--------------+-------------+--------+----------+---------+-------------+----------+--------------+\n",
            "|  0|158023|         L. Messi| 31|https://cdn.sofif...|  Argentina|https://cdn.sofif...|     94|       94|       FC Barcelona|https://cdn.sofif...|€110.5M|€565K|   2202|          Left|                       5|        4|          4|Medium/ Medium|     Messi|      Yes|      RF|           10| Jul 1, 2004|       NULL|                2021|   5'7|159lbs|88+2|88+2|88+2|92+2|93+2|93+2|93+2|92+2|93+2|93+2|93+2|91+2|84+2|84+2|84+2|91+2|64+2|61+2|61+2|61+2|64+2|59+2|47+2|47+2|47+2|59+2|      84|       95|             70|          90|     86|       97|   93|        94|         87|         96|          91|         86|     91|       95|     95|       85|     68|     72|      59|       94|        48|           22|         94|    94|       75|       96|     33|            28|           26|       6|        11|       15|           14|         8|       €226.5M|\n",
            "|  1| 20801|Cristiano Ronaldo| 33|https://cdn.sofif...|   Portugal|https://cdn.sofif...|     94|       94|           Juventus|https://cdn.sofif...|   €77M|€405K|   2228|         Right|                       5|        4|          5|     High/ Low|C. Ronaldo|      Yes|      ST|            7|Jul 10, 2018|       NULL|                2022|   6'2|183lbs|91+3|91+3|91+3|89+3|90+3|90+3|90+3|89+3|88+3|88+3|88+3|88+3|81+3|81+3|81+3|88+3|65+3|61+3|61+3|61+3|65+3|61+3|53+3|53+3|53+3|61+3|      84|       94|             89|          81|     87|       88|   81|        76|         77|         94|          89|         91|     87|       96|     70|       95|     95|     88|      79|       93|        63|           29|         95|    82|       85|       95|     28|            31|           23|       7|        11|       15|           14|        11|       €127.1M|\n",
            "|  2|190871|        Neymar Jr| 26|https://cdn.sofif...|     Brazil|https://cdn.sofif...|     92|       93|Paris Saint-Germain|https://cdn.sofif...|€118.5M|€290K|   2143|         Right|                       5|        5|          5|  High/ Medium|    Neymar|      Yes|      LW|           10| Aug 3, 2017|       NULL|                2022|   5'9|150lbs|84+3|84+3|84+3|89+3|89+3|89+3|89+3|89+3|89+3|89+3|89+3|88+3|81+3|81+3|81+3|88+3|65+3|60+3|60+3|60+3|65+3|60+3|47+3|47+3|47+3|60+3|      79|       87|             62|          84|     84|       96|   88|        87|         78|         95|          94|         90|     96|       94|     84|       80|     61|     81|      49|       82|        56|           36|         89|    87|       81|       94|     27|            24|           33|       9|         9|       15|           15|        11|       €228.1M|\n",
            "|  3|193080|           De Gea| 27|https://cdn.sofif...|      Spain|https://cdn.sofif...|     91|       93|  Manchester United|https://cdn.sofif...|   €72M|€260K|   1471|         Right|                       4|        3|          1|Medium/ Medium|      Lean|      Yes|      GK|            1| Jul 1, 2011|       NULL|                2020|   6'4|168lbs|NULL|NULL|NULL|NULL|NULL|NULL|NULL|NULL|NULL|NULL|NULL|NULL|NULL|NULL|NULL|NULL|NULL|NULL|NULL|NULL|NULL|NULL|NULL|NULL|NULL|NULL|      17|       13|             21|          50|     13|       18|   21|        19|         51|         42|          57|         58|     60|       90|     43|       31|     67|     43|      64|       12|        38|           30|         12|    68|       40|       68|     15|            21|           13|      90|        85|       87|           88|        94|       €138.6M|\n",
            "|  4|192985|     K. De Bruyne| 27|https://cdn.sofif...|    Belgium|https://cdn.sofif...|     91|       92|    Manchester City|https://cdn.sofif...|  €102M|€355K|   2281|         Right|                       4|        5|          4|    High/ High|    Normal|      Yes|     RCM|            7|Aug 30, 2015|       NULL|                2023|  5'11|154lbs|82+3|82+3|82+3|87+3|87+3|87+3|87+3|87+3|88+3|88+3|88+3|88+3|87+3|87+3|87+3|88+3|77+3|77+3|77+3|77+3|77+3|73+3|66+3|66+3|66+3|73+3|      93|       82|             55|          92|     82|       86|   85|        83|         91|         91|          78|         76|     79|       91|     77|       91|     63|     90|      75|       91|        76|           61|         87|    94|       79|       88|     68|            58|           51|      15|        13|        5|           10|        13|       €196.4M|\n",
            "|  5|183277|        E. Hazard| 27|https://cdn.sofif...|    Belgium|https://cdn.sofif...|     91|       91|            Chelsea|https://cdn.sofif...|   €93M|€340K|   2142|         Right|                       4|        4|          4|  High/ Medium|    Normal|      Yes|      LF|           10| Jul 1, 2012|       NULL|                2020|   5'8|163lbs|83+3|83+3|83+3|89+3|88+3|88+3|88+3|89+3|89+3|89+3|89+3|89+3|82+3|82+3|82+3|89+3|66+3|63+3|63+3|63+3|66+3|60+3|49+3|49+3|49+3|60+3|      81|       84|             61|          89|     80|       95|   83|        79|         83|         94|          94|         88|     95|       90|     94|       82|     56|     83|      66|       80|        54|           41|         87|    89|       86|       91|     34|            27|           22|      11|        12|        6|            8|         8|       €172.1M|\n",
            "|  6|177003|        L. Modrić| 32|https://cdn.sofif...|    Croatia|https://cdn.sofif...|     91|       91|        Real Madrid|https://cdn.sofif...|   €67M|€420K|   2280|         Right|                       4|        4|          4|    High/ High|      Lean|      Yes|     RCM|           10| Aug 1, 2012|       NULL|                2020|   5'8|146lbs|77+3|77+3|77+3|85+3|84+3|84+3|84+3|85+3|87+3|87+3|87+3|86+3|88+3|88+3|88+3|86+3|82+3|81+3|81+3|81+3|82+3|79+3|71+3|71+3|71+3|79+3|      86|       72|             55|          93|     76|       90|   85|        78|         88|         93|          80|         72|     93|       90|     94|       79|     68|     89|      58|       82|        62|           83|         79|    92|       82|       84|     60|            76|           73|      13|         9|        7|           14|         9|       €137.4M|\n",
            "|  7|176580|        L. Suárez| 31|https://cdn.sofif...|    Uruguay|https://cdn.sofif...|     91|       91|       FC Barcelona|https://cdn.sofif...|   €80M|€455K|   2346|         Right|                       5|        4|          3|  High/ Medium|    Normal|      Yes|      RS|            9|Jul 11, 2014|       NULL|                2021|   6'0|190lbs|87+5|87+5|87+5|86+5|87+5|87+5|87+5|86+5|85+5|85+5|85+5|84+5|79+5|79+5|79+5|84+5|69+5|68+5|68+5|68+5|69+5|66+5|63+5|63+5|63+5|66+5|      77|       93|             77|          82|     88|       87|   86|        84|         64|         90|          86|         75|     82|       92|     83|       86|     69|     90|      83|       85|        87|           41|         92|    84|       85|       85|     62|            45|           38|      27|        25|       31|           33|        37|         €164M|\n",
            "|  8|155862|     Sergio Ramos| 32|https://cdn.sofif...|      Spain|https://cdn.sofif...|     91|       91|        Real Madrid|https://cdn.sofif...|   €51M|€380K|   2201|         Right|                       4|        3|          3|  High/ Medium|    Normal|      Yes|     RCB|           15| Aug 1, 2005|       NULL|                2020|   6'0|181lbs|73+3|73+3|73+3|70+3|71+3|71+3|71+3|70+3|71+3|71+3|71+3|72+3|75+3|75+3|75+3|72+3|81+3|84+3|84+3|84+3|81+3|84+3|87+3|87+3|87+3|84+3|      66|       60|             91|          78|     66|       63|   74|        72|         77|         84|          76|         75|     78|       85|     66|       79|     93|     84|      83|       59|        88|           90|         60|    63|       75|       82|     87|            92|           91|      11|         8|        9|            7|        11|       €104.6M|\n",
            "|  9|200389|         J. Oblak| 25|https://cdn.sofif...|   Slovenia|https://cdn.sofif...|     90|       93|    Atlético Madrid|https://cdn.sofif...|   €68M| €94K|   1331|         Right|                       3|        3|          1|Medium/ Medium|    Normal|      Yes|      GK|            1|Jul 16, 2014|       NULL|                2021|   6'2|192lbs|NULL|NULL|NULL|NULL|NULL|NULL|NULL|NULL|NULL|NULL|NULL|NULL|NULL|NULL|NULL|NULL|NULL|NULL|NULL|NULL|NULL|NULL|NULL|NULL|NULL|NULL|      13|       11|             15|          29|     13|       12|   13|        14|         26|         16|          43|         60|     67|       86|     49|       22|     76|     41|      78|       12|        34|           19|         11|    70|       11|       70|     27|            12|           18|      86|        92|       78|           88|        89|       €144.5M|\n",
            "+---+------+-----------------+---+--------------------+-----------+--------------------+-------+---------+-------------------+--------------------+-------+-----+-------+--------------+------------------------+---------+-----------+--------------+----------+---------+--------+-------------+------------+-----------+--------------------+------+------+----+----+----+----+----+----+----+----+----+----+----+----+----+----+----+----+----+----+----+----+----+----+----+----+----+----+--------+---------+---------------+------------+-------+---------+-----+----------+-----------+-----------+------------+-----------+-------+---------+-------+---------+-------+-------+--------+---------+----------+-------------+-----------+------+---------+---------+-------+--------------+-------------+--------+----------+---------+-------------+----------+--------------+\n",
            "only showing top 10 rows\n",
            "\n",
            "+-------+-----------------+------------------+-------------+------------------+--------------------+-----------+--------------------+-----------------+-----------------+--------------------+--------------------+-----+-----+------------------+--------------+------------------------+------------------+------------------+--------------+---------+---------+--------+------------------+-----------+-------------+--------------------+------+------+-----+-----+-----+-----+-----+-----+-----+-----+-----+-----+-----+-----+-----+-----+-----+-----+-----+-----+-----+-----+-----+-----+-----+-----+-----+-----+------------------+------------------+------------------+------------------+------------------+------------------+------------------+------------------+------------------+------------------+------------------+------------------+------------------+-----------------+------------------+------------------+-----------------+------------------+-----------------+-----------------+------------------+------------------+------------------+------------------+------------------+------------------+------------------+-----------------+------------------+------------------+------------------+------------------+------------------+------------------+--------------+\n",
            "|summary|              _c0|                ID|         Name|               Age|               Photo|Nationality|                Flag|          Overall|        Potential|                Club|           Club Logo|Value| Wage|           Special|Preferred Foot|International Reputation|         Weak Foot|       Skill Moves|     Work Rate|Body Type|Real Face|Position|     Jersey Number|     Joined|  Loaned From|Contract Valid Until|Height|Weight|   LS|   ST|   RS|   LW|   LF|   CF|   RF|   RW|  LAM|  CAM|  RAM|   LM|  LCM|   CM|  RCM|   RM|  LWB|  LDM|  CDM|  RDM|  RWB|   LB|  LCB|   CB|  RCB|   RB|          Crossing|         Finishing|   HeadingAccuracy|      ShortPassing|           Volleys|         Dribbling|             Curve|        FKAccuracy|       LongPassing|       BallControl|      Acceleration|       SprintSpeed|           Agility|        Reactions|           Balance|         ShotPower|          Jumping|           Stamina|         Strength|        LongShots|        Aggression|     Interceptions|       Positioning|            Vision|         Penalties|         Composure|           Marking|   StandingTackle|     SlidingTackle|          GKDiving|        GKHandling|         GKKicking|     GKPositioning|        GKReflexes|Release Clause|\n",
            "+-------+-----------------+------------------+-------------+------------------+--------------------+-----------+--------------------+-----------------+-----------------+--------------------+--------------------+-----+-----+------------------+--------------+------------------------+------------------+------------------+--------------+---------+---------+--------+------------------+-----------+-------------+--------------------+------+------+-----+-----+-----+-----+-----+-----+-----+-----+-----+-----+-----+-----+-----+-----+-----+-----+-----+-----+-----+-----+-----+-----+-----+-----+-----+-----+------------------+------------------+------------------+------------------+------------------+------------------+------------------+------------------+------------------+------------------+------------------+------------------+------------------+-----------------+------------------+------------------+-----------------+------------------+-----------------+-----------------+------------------+------------------+------------------+------------------+------------------+------------------+------------------+-----------------+------------------+------------------+------------------+------------------+------------------+------------------+--------------+\n",
            "|  count|            18207|             18207|        18207|             18207|               18207|      18207|               18207|            18207|            18207|               17966|               18207|18207|18207|             18207|         18159|                   18159|             18159|             18159|         18159|    18159|    18159|   18147|             18147|      16654|         1264|               17918| 18159| 18159|16122|16122|16122|16122|16122|16122|16122|16122|16122|16122|16122|16122|16122|16122|16122|16122|16122|16122|16122|16122|16122|16122|16122|16122|16122|16122|             18159|             18159|             18159|             18159|             18159|             18159|             18159|             18159|             18159|             18159|             18159|             18159|             18159|            18159|             18159|             18159|            18159|             18159|            18159|            18159|             18159|             18159|             18159|             18159|             18159|             18159|             18159|            18159|             18159|             18159|             18159|             18159|             18159|             18159|         16643|\n",
            "|   mean|           9103.0|214298.33860603065|         NULL|25.122205745043114|                NULL|       NULL|                NULL|66.23869940132916|71.30729939034437|                NULL|                NULL| NULL| NULL|1597.8099082770364|          NULL|      1.1132220937276283|2.9472988600693872| 2.361308442094829|          NULL|     NULL|     NULL|    NULL|19.546095773406073|       NULL|         NULL|  2020.2414434970578|  NULL|  NULL| NULL| NULL| NULL| NULL| NULL| NULL| NULL| NULL| NULL| NULL| NULL| NULL| NULL| NULL| NULL| NULL| NULL| NULL| NULL| NULL| NULL| NULL| NULL| NULL| NULL| NULL|49.734181397654055| 45.55091139379922| 52.29814417093452| 58.68671182333829|  42.9090258274134| 55.37100060576023|47.170824384602675|42.863153257337956|52.711933476513025|58.369458670631644| 64.61407566495953| 64.72696734401674|63.503607026818656|61.83660994548158|63.966573049176716| 55.46004735943609|65.08943223745801|  63.2199460322705|65.31196651798007|47.10997301613525| 55.86899058318189|46.698276336802685| 49.95847788975164| 53.40090313343246| 48.54859849110634|  58.6482735833471|47.281623437413955|47.69783578390881| 45.66143510105182|  16.6162233603172|16.391596453549205| 16.23206123685225|16.388898067074177|16.710887163390055|          NULL|\n",
            "| stddev|5256.052511153213| 29965.24420376614|         NULL| 4.669942713414283|                NULL|       NULL|                NULL| 6.90892961188318| 6.13649558349908|                NULL|                NULL| NULL| NULL|272.58601589064074|          NULL|      0.3940307558442116|0.6604562822592952|0.7561640557919415|          NULL|     NULL|     NULL|    NULL| 15.94776514086823|       NULL|         NULL|   1.290928297200282|  NULL|  NULL| NULL| NULL| NULL| NULL| NULL| NULL| NULL| NULL| NULL| NULL| NULL| NULL| NULL| NULL| NULL| NULL| NULL| NULL| NULL| NULL| NULL| NULL| NULL| NULL| NULL| NULL|18.364524202379506|19.525820471215855|17.379908855454648|14.699495132549076|17.694407723668544|18.910371098619663|18.395263818692563|17.478762995292428| 15.32787046376082| 16.68659540555203|14.927779737812692|14.649952914352793|14.766049258068014|9.010464421352467| 14.13616595464958|17.237957966796177|11.82004426926998|15.894740529253585|12.55700014107638|19.26052449797068|17.367967345443166|20.696908859787065|19.529035565268778|14.146880724464197|15.704053491330628|11.436132970353373| 19.90439725702023| 21.6640037259342|21.289134678741714|17.695348811680066| 16.90690049570182|16.502864494079933|17.034669173227265|17.955118621200686|          NULL|\n",
            "|    min|                0|            100803|     A. Abang|                16|https://cdn.sofif...|Afghanistan|https://cdn.sofif...|               46|               48| SSV Jahn Regensburg|https://cdn.sofif...|   €0|   €0|              1000|          Left|                       1|                 1|                 1|    High/ High|Akinfenwa|       No|     CAM|                 1|Apr 1, 2008|   1. FC Köln|                2018|   5'1|110lbs| 31+2| 31+2| 31+2| 25+2| 27+2| 27+2| 27+2| 25+2| 27+2| 27+2| 27+2| 27+2| 30+2| 30+2| 30+2| 27+2| 30+2| 28+2| 28+2| 28+2| 30+2| 29+2| 25+2| 25+2| 25+2| 29+2|                10|                10|                10|                11|                10|                10|                10|                10|                10|                10|                12|                12|                14|               21|                16|                10|               15|                12|               17|               10|                11|                10|                10|                10|                10|                12|                10|               10|                10|                 1|                 1|                 1|                 1|                 1|         €1.1M|\n",
            "|    max|             9999|              9833|Óscar Whalley|                45|https://cdn.sofif...|   Zimbabwe|https://cdn.sofif...|               94|               95|       Śląsk Wrocław|https://cdn.sofif...|  €9M|  €9K|               999|         Right|                       5|                 5|                 5|Medium/ Medium|   Stocky|      Yes|      ST|                99|Sep 9, 2018|Östersunds FK|        Oct 14, 2019|   6'9|243lbs| 91+3| 91+3| 91+3| 92+2| 93+2| 93+2| 93+2| 92+2| 93+2| 93+2| 93+2| 91+2| 88+3| 88+3| 88+3| 91+2| 85+3| 87+3| 87+3| 87+3| 85+3| 84+3| 87+3| 87+3| 87+3| 84+3|                93|                95|                94|                93|                90|                97|                94|                94|                93|                96|                97|                96|                96|               96|                96|                95|               95|                96|               97|               94|                95|                92|                95|                94|                92|                96|                94|               93|                91|                90|                92|                91|                90|                94|           €9M|\n",
            "+-------+-----------------+------------------+-------------+------------------+--------------------+-----------+--------------------+-----------------+-----------------+--------------------+--------------------+-----+-----+------------------+--------------+------------------------+------------------+------------------+--------------+---------+---------+--------+------------------+-----------+-------------+--------------------+------+------+-----+-----+-----+-----+-----+-----+-----+-----+-----+-----+-----+-----+-----+-----+-----+-----+-----+-----+-----+-----+-----+-----+-----+-----+-----+-----+------------------+------------------+------------------+------------------+------------------+------------------+------------------+------------------+------------------+------------------+------------------+------------------+------------------+-----------------+------------------+------------------+-----------------+------------------+-----------------+-----------------+------------------+------------------+------------------+------------------+------------------+------------------+------------------+-----------------+------------------+------------------+------------------+------------------+------------------+------------------+--------------+\n",
            "\n"
          ]
        }
      ]
    },
    {
      "cell_type": "code",
      "source": [
        "from pyspark.sql.functions import col, count, when\n",
        "\n",
        "# Define a function to count missing values per column\n",
        "def count_missing_values(df):\n",
        "    # Aggregate the counts of null values per column\n",
        "    exprs = [count(when(col(c).isNull(), c)).alias(c) for c in df.columns]\n",
        "    if not exprs or exprs is None:\n",
        "        exprs = ['all good']\n",
        "\n",
        "\n",
        "    missing_values = df.agg(*exprs)\n",
        "    return missing_values\n",
        "\n",
        "# Count missing values\n",
        "missing_values_df = count_missing_values(df)\n",
        "\n",
        "# Show the counts of missing values per column\n",
        "missing_values_df.show()"
      ],
      "metadata": {
        "colab": {
          "base_uri": "https://localhost:8080/"
        },
        "id": "FppkE9GpQHSo",
        "outputId": "95021001-6861-4adf-e9df-9554eb742059"
      },
      "execution_count": 4,
      "outputs": [
        {
          "output_type": "stream",
          "name": "stdout",
          "text": [
            "+---+---+----+---+-----+-----------+----+-------+---------+----+---------+-----+----+-------+--------------+------------------------+---------+-----------+---------+---------+---------+--------+-------------+------+-----------+--------------------+------+------+----+----+----+----+----+----+----+----+----+----+----+----+----+----+----+----+----+----+----+----+----+----+----+----+----+----+--------+---------+---------------+------------+-------+---------+-----+----------+-----------+-----------+------------+-----------+-------+---------+-------+---------+-------+-------+--------+---------+----------+-------------+-----------+------+---------+---------+-------+--------------+-------------+--------+----------+---------+-------------+----------+--------------+\n",
            "|_c0| ID|Name|Age|Photo|Nationality|Flag|Overall|Potential|Club|Club Logo|Value|Wage|Special|Preferred Foot|International Reputation|Weak Foot|Skill Moves|Work Rate|Body Type|Real Face|Position|Jersey Number|Joined|Loaned From|Contract Valid Until|Height|Weight|  LS|  ST|  RS|  LW|  LF|  CF|  RF|  RW| LAM| CAM| RAM|  LM| LCM|  CM| RCM|  RM| LWB| LDM| CDM| RDM| RWB|  LB| LCB|  CB| RCB|  RB|Crossing|Finishing|HeadingAccuracy|ShortPassing|Volleys|Dribbling|Curve|FKAccuracy|LongPassing|BallControl|Acceleration|SprintSpeed|Agility|Reactions|Balance|ShotPower|Jumping|Stamina|Strength|LongShots|Aggression|Interceptions|Positioning|Vision|Penalties|Composure|Marking|StandingTackle|SlidingTackle|GKDiving|GKHandling|GKKicking|GKPositioning|GKReflexes|Release Clause|\n",
            "+---+---+----+---+-----+-----------+----+-------+---------+----+---------+-----+----+-------+--------------+------------------------+---------+-----------+---------+---------+---------+--------+-------------+------+-----------+--------------------+------+------+----+----+----+----+----+----+----+----+----+----+----+----+----+----+----+----+----+----+----+----+----+----+----+----+----+----+--------+---------+---------------+------------+-------+---------+-----+----------+-----------+-----------+------------+-----------+-------+---------+-------+---------+-------+-------+--------+---------+----------+-------------+-----------+------+---------+---------+-------+--------------+-------------+--------+----------+---------+-------------+----------+--------------+\n",
            "|  0|  0|   0|  0|    0|          0|   0|      0|        0| 241|        0|    0|   0|      0|            48|                      48|       48|         48|       48|       48|       48|      60|           60|  1553|      16943|                 289|    48|    48|2085|2085|2085|2085|2085|2085|2085|2085|2085|2085|2085|2085|2085|2085|2085|2085|2085|2085|2085|2085|2085|2085|2085|2085|2085|2085|      48|       48|             48|          48|     48|       48|   48|        48|         48|         48|          48|         48|     48|       48|     48|       48|     48|     48|      48|       48|        48|           48|         48|    48|       48|       48|     48|            48|           48|      48|        48|       48|           48|        48|          1564|\n",
            "+---+---+----+---+-----+-----------+----+-------+---------+----+---------+-----+----+-------+--------------+------------------------+---------+-----------+---------+---------+---------+--------+-------------+------+-----------+--------------------+------+------+----+----+----+----+----+----+----+----+----+----+----+----+----+----+----+----+----+----+----+----+----+----+----+----+----+----+--------+---------+---------------+------------+-------+---------+-----+----------+-----------+-----------+------------+-----------+-------+---------+-------+---------+-------+-------+--------+---------+----------+-------------+-----------+------+---------+---------+-------+--------------+-------------+--------+----------+---------+-------------+----------+--------------+\n",
            "\n"
          ]
        }
      ]
    },
    {
      "cell_type": "code",
      "source": [
        "df.printSchema()"
      ],
      "metadata": {
        "colab": {
          "base_uri": "https://localhost:8080/"
        },
        "collapsed": true,
        "id": "LjUQ4a0SSUcE",
        "outputId": "824f663c-2c62-4f58-bc51-64b450b11160"
      },
      "execution_count": 5,
      "outputs": [
        {
          "output_type": "stream",
          "name": "stdout",
          "text": [
            "root\n",
            " |-- _c0: string (nullable = true)\n",
            " |-- ID: string (nullable = true)\n",
            " |-- Name: string (nullable = true)\n",
            " |-- Age: string (nullable = true)\n",
            " |-- Photo: string (nullable = true)\n",
            " |-- Nationality: string (nullable = true)\n",
            " |-- Flag: string (nullable = true)\n",
            " |-- Overall: string (nullable = true)\n",
            " |-- Potential: string (nullable = true)\n",
            " |-- Club: string (nullable = true)\n",
            " |-- Club Logo: string (nullable = true)\n",
            " |-- Value: string (nullable = true)\n",
            " |-- Wage: string (nullable = true)\n",
            " |-- Special: string (nullable = true)\n",
            " |-- Preferred Foot: string (nullable = true)\n",
            " |-- International Reputation: string (nullable = true)\n",
            " |-- Weak Foot: string (nullable = true)\n",
            " |-- Skill Moves: string (nullable = true)\n",
            " |-- Work Rate: string (nullable = true)\n",
            " |-- Body Type: string (nullable = true)\n",
            " |-- Real Face: string (nullable = true)\n",
            " |-- Position: string (nullable = true)\n",
            " |-- Jersey Number: string (nullable = true)\n",
            " |-- Joined: string (nullable = true)\n",
            " |-- Loaned From: string (nullable = true)\n",
            " |-- Contract Valid Until: string (nullable = true)\n",
            " |-- Height: string (nullable = true)\n",
            " |-- Weight: string (nullable = true)\n",
            " |-- LS: string (nullable = true)\n",
            " |-- ST: string (nullable = true)\n",
            " |-- RS: string (nullable = true)\n",
            " |-- LW: string (nullable = true)\n",
            " |-- LF: string (nullable = true)\n",
            " |-- CF: string (nullable = true)\n",
            " |-- RF: string (nullable = true)\n",
            " |-- RW: string (nullable = true)\n",
            " |-- LAM: string (nullable = true)\n",
            " |-- CAM: string (nullable = true)\n",
            " |-- RAM: string (nullable = true)\n",
            " |-- LM: string (nullable = true)\n",
            " |-- LCM: string (nullable = true)\n",
            " |-- CM: string (nullable = true)\n",
            " |-- RCM: string (nullable = true)\n",
            " |-- RM: string (nullable = true)\n",
            " |-- LWB: string (nullable = true)\n",
            " |-- LDM: string (nullable = true)\n",
            " |-- CDM: string (nullable = true)\n",
            " |-- RDM: string (nullable = true)\n",
            " |-- RWB: string (nullable = true)\n",
            " |-- LB: string (nullable = true)\n",
            " |-- LCB: string (nullable = true)\n",
            " |-- CB: string (nullable = true)\n",
            " |-- RCB: string (nullable = true)\n",
            " |-- RB: string (nullable = true)\n",
            " |-- Crossing: string (nullable = true)\n",
            " |-- Finishing: string (nullable = true)\n",
            " |-- HeadingAccuracy: string (nullable = true)\n",
            " |-- ShortPassing: string (nullable = true)\n",
            " |-- Volleys: string (nullable = true)\n",
            " |-- Dribbling: string (nullable = true)\n",
            " |-- Curve: string (nullable = true)\n",
            " |-- FKAccuracy: string (nullable = true)\n",
            " |-- LongPassing: string (nullable = true)\n",
            " |-- BallControl: string (nullable = true)\n",
            " |-- Acceleration: string (nullable = true)\n",
            " |-- SprintSpeed: string (nullable = true)\n",
            " |-- Agility: string (nullable = true)\n",
            " |-- Reactions: string (nullable = true)\n",
            " |-- Balance: string (nullable = true)\n",
            " |-- ShotPower: string (nullable = true)\n",
            " |-- Jumping: string (nullable = true)\n",
            " |-- Stamina: string (nullable = true)\n",
            " |-- Strength: string (nullable = true)\n",
            " |-- LongShots: string (nullable = true)\n",
            " |-- Aggression: string (nullable = true)\n",
            " |-- Interceptions: string (nullable = true)\n",
            " |-- Positioning: string (nullable = true)\n",
            " |-- Vision: string (nullable = true)\n",
            " |-- Penalties: string (nullable = true)\n",
            " |-- Composure: string (nullable = true)\n",
            " |-- Marking: string (nullable = true)\n",
            " |-- StandingTackle: string (nullable = true)\n",
            " |-- SlidingTackle: string (nullable = true)\n",
            " |-- GKDiving: string (nullable = true)\n",
            " |-- GKHandling: string (nullable = true)\n",
            " |-- GKKicking: string (nullable = true)\n",
            " |-- GKPositioning: string (nullable = true)\n",
            " |-- GKReflexes: string (nullable = true)\n",
            " |-- Release Clause: string (nullable = true)\n",
            "\n"
          ]
        }
      ]
    },
    {
      "cell_type": "markdown",
      "source": [
        "# Keeping only interesing features"
      ],
      "metadata": {
        "id": "DOlCySVWEV0m"
      }
    },
    {
      "cell_type": "code",
      "source": [
        "# List of columns\n",
        "numerical_columns = ['Age','Overall','Potential','International Reputation']\n",
        "currency_columns = ['Value', 'Wage','Release Clause']\n",
        "height_weight_columns = ['Height', 'Weight']\n",
        "\n",
        "\n",
        "keep_columns = []\n",
        "keep_columns.extend(numerical_columns)\n",
        "keep_columns.extend(currency_columns)\n",
        "keep_columns.extend(height_weight_columns)\n",
        "\n",
        "# Additional categorical columns\n",
        "keep_columns.append('Preferred Foot')\n",
        "keep_columns.append('Club')\n",
        "\n",
        "df = df.select(*keep_columns)\n",
        "df.show(5)"
      ],
      "metadata": {
        "colab": {
          "base_uri": "https://localhost:8080/"
        },
        "id": "OOpNDhbuEVVF",
        "outputId": "d3b4ce57-a45b-4a21-bba9-94b6675dd64f"
      },
      "execution_count": 6,
      "outputs": [
        {
          "output_type": "stream",
          "name": "stdout",
          "text": [
            "+---+-------+---------+------------------------+-------+-----+--------------+------+------+--------------+-------------------+\n",
            "|Age|Overall|Potential|International Reputation|  Value| Wage|Release Clause|Height|Weight|Preferred Foot|               Club|\n",
            "+---+-------+---------+------------------------+-------+-----+--------------+------+------+--------------+-------------------+\n",
            "| 31|     94|       94|                       5|€110.5M|€565K|       €226.5M|   5'7|159lbs|          Left|       FC Barcelona|\n",
            "| 33|     94|       94|                       5|   €77M|€405K|       €127.1M|   6'2|183lbs|         Right|           Juventus|\n",
            "| 26|     92|       93|                       5|€118.5M|€290K|       €228.1M|   5'9|150lbs|         Right|Paris Saint-Germain|\n",
            "| 27|     91|       93|                       4|   €72M|€260K|       €138.6M|   6'4|168lbs|         Right|  Manchester United|\n",
            "| 27|     91|       92|                       4|  €102M|€355K|       €196.4M|  5'11|154lbs|         Right|    Manchester City|\n",
            "+---+-------+---------+------------------------+-------+-----+--------------+------+------+--------------+-------------------+\n",
            "only showing top 5 rows\n",
            "\n"
          ]
        }
      ]
    },
    {
      "cell_type": "markdown",
      "source": [
        "# Casting Relevant Numerical features to integers"
      ],
      "metadata": {
        "id": "-LMtYhTGAj0S"
      }
    },
    {
      "cell_type": "code",
      "source": [
        "# Casting valid numerical features\n",
        "#from pyspark.sql.functions import  regexp_replace, col, count, when # Import col function\n",
        "from pyspark.sql.functions import udf\n",
        "from pyspark.sql.types import FloatType\n",
        "import re\n",
        "\n",
        "# Cast numerical columns to IntegerType\n",
        "for column_name in numerical_columns:\n",
        "    df = df.withColumn(column_name, col(column_name).cast(\"integer\"))\n"
      ],
      "metadata": {
        "id": "-Nu0x20RpPr7"
      },
      "execution_count": 7,
      "outputs": []
    },
    {
      "cell_type": "code",
      "source": [
        "# Define the Conversion function for currency\n",
        "def convert_currency(value):\n",
        "    if value is None:\n",
        "        return None\n",
        "    if 'M' in value:\n",
        "        return float(re.sub(r'[€M]', '', value)) * 1000000\n",
        "    elif 'K' in value:\n",
        "        return float(re.sub(r'[€K]', '', value)) * 1000\n",
        "    else:\n",
        "        return float(re.sub(r'€', '', value))\n",
        "\n",
        "# Define the Conversion function for units of messurments\n",
        "def convert_Height_Weight(value):\n",
        "    if value is None:\n",
        "        return None\n",
        "    if '\\'' in value:\n",
        "      match = re.match(r\"(\\d+)'(\\d+)\", value)\n",
        "      if not match:\n",
        "        return None\n",
        "      feet = int(match.group(1))\n",
        "      inches = int(match.group(2))\n",
        "      return (feet * 30.48) + (inches * 2.54) # to centimeter\n",
        "    elif 'lbs' in value:\n",
        "        return float(re.sub('lbs', '', value)) * 0.453592 # to killogram\n",
        "    else:\n",
        "        return None\n",
        "\n",
        "\n",
        "\n"
      ],
      "metadata": {
        "id": "2gzP-fg6bepe"
      },
      "execution_count": 8,
      "outputs": []
    },
    {
      "cell_type": "code",
      "source": [
        "# Register the UDF\n",
        "convert_currency_udf = udf(convert_currency, FloatType())\n",
        "convert_hight_weight_udf = udf(convert_Height_Weight, FloatType())\n",
        "\n",
        "# Apply the UDF to each currency column\n",
        "for column_name in currency_columns:\n",
        "    df = df.withColumn(column_name, convert_currency_udf(col(column_name)))\n",
        "\n",
        "for column_name in height_weight_columns:\n",
        "    df = df.withColumn(column_name, convert_hight_weight_udf(col(column_name)))\n",
        "\n",
        "\n",
        "# Show the updated DataFrame with correct data types\n",
        "df.show(5)\n",
        "df.select('Wage').show(5)"
      ],
      "metadata": {
        "colab": {
          "base_uri": "https://localhost:8080/"
        },
        "id": "4lmXZ9mbpk8p",
        "outputId": "002489c9-9386-4bb1-d729-935ec7ed74f3"
      },
      "execution_count": 9,
      "outputs": [
        {
          "output_type": "stream",
          "name": "stdout",
          "text": [
            "+---+-------+---------+------------------------+-------+--------+--------------+------+---------+--------------+-------------------+\n",
            "|Age|Overall|Potential|International Reputation|  Value|    Wage|Release Clause|Height|   Weight|Preferred Foot|               Club|\n",
            "+---+-------+---------+------------------------+-------+--------+--------------+------+---------+--------------+-------------------+\n",
            "| 31|     94|       94|                       5|1.105E8|565000.0|       2.265E8|170.18|72.121124|          Left|       FC Barcelona|\n",
            "| 33|     94|       94|                       5|  7.7E7|405000.0|       1.271E8|187.96| 83.00734|         Right|           Juventus|\n",
            "| 26|     92|       93|                       5|1.185E8|290000.0|       2.281E8|175.26|  68.0388|         Right|Paris Saint-Germain|\n",
            "| 27|     91|       93|                       4|  7.2E7|260000.0|       1.386E8|193.04| 76.20345|         Right|  Manchester United|\n",
            "| 27|     91|       92|                       4| 1.02E8|355000.0|       1.964E8|180.34|69.853165|         Right|    Manchester City|\n",
            "+---+-------+---------+------------------------+-------+--------+--------------+------+---------+--------------+-------------------+\n",
            "only showing top 5 rows\n",
            "\n",
            "+--------+\n",
            "|    Wage|\n",
            "+--------+\n",
            "|565000.0|\n",
            "|405000.0|\n",
            "|290000.0|\n",
            "|260000.0|\n",
            "|355000.0|\n",
            "+--------+\n",
            "only showing top 5 rows\n",
            "\n"
          ]
        }
      ]
    },
    {
      "cell_type": "markdown",
      "source": [
        "#Checking For missing Values in DF"
      ],
      "metadata": {
        "id": "h6Wqwf-hA6Uv"
      }
    },
    {
      "cell_type": "code",
      "source": [
        "# Count missing values\n",
        "missing_values_df = count_missing_values(df)\n",
        "\n",
        "# Show the counts of missing values per column\n",
        "missing_values_df.show()"
      ],
      "metadata": {
        "colab": {
          "base_uri": "https://localhost:8080/"
        },
        "id": "2FcckLi16_oj",
        "outputId": "2acfbefa-314a-4f91-8147-62d854425340"
      },
      "execution_count": 10,
      "outputs": [
        {
          "output_type": "stream",
          "name": "stdout",
          "text": [
            "+---+-------+---------+------------------------+-----+----+--------------+------+------+--------------+----+\n",
            "|Age|Overall|Potential|International Reputation|Value|Wage|Release Clause|Height|Weight|Preferred Foot|Club|\n",
            "+---+-------+---------+------------------------+-----+----+--------------+------+------+--------------+----+\n",
            "|  0|      0|        0|                      48|    0|   0|          1564|    48|    48|            48| 241|\n",
            "+---+-------+---------+------------------------+-----+----+--------------+------+------+--------------+----+\n",
            "\n"
          ]
        }
      ]
    },
    {
      "cell_type": "code",
      "source": [
        "# df = df.dropna(how = 'any')\n",
        "df.printSchema()"
      ],
      "metadata": {
        "colab": {
          "base_uri": "https://localhost:8080/"
        },
        "id": "XNMbcBgHDnQe",
        "outputId": "daf7da27-7b38-4603-cc8d-c0f9cd3c7d04"
      },
      "execution_count": 11,
      "outputs": [
        {
          "output_type": "stream",
          "name": "stdout",
          "text": [
            "root\n",
            " |-- Age: integer (nullable = true)\n",
            " |-- Overall: integer (nullable = true)\n",
            " |-- Potential: integer (nullable = true)\n",
            " |-- International Reputation: integer (nullable = true)\n",
            " |-- Value: float (nullable = true)\n",
            " |-- Wage: float (nullable = true)\n",
            " |-- Release Clause: float (nullable = true)\n",
            " |-- Height: float (nullable = true)\n",
            " |-- Weight: float (nullable = true)\n",
            " |-- Preferred Foot: string (nullable = true)\n",
            " |-- Club: string (nullable = true)\n",
            "\n"
          ]
        }
      ]
    },
    {
      "cell_type": "code",
      "source": [
        "from pyspark.sql.functions import mean, col\n",
        "\n",
        "# List of your numerical columns\n",
        "numerical_columns_missing = ['Age', 'Overall', 'Potential', 'Value', 'Wage', 'Release Clause', 'Height', 'Weight','International Reputation']\n",
        "\n",
        "# Replace missing values in each numerical column with the mean of that column\n",
        "for column in numerical_columns_missing:\n",
        "    mean_value = df.select(mean(col(column))).collect()[0][0]\n",
        "    df = df.na.fill({column: mean_value})  # Replace missing values with the mean\n",
        "\n",
        "# Remove vector rows that have missing values\n",
        "#hashed_df = hashed_df.dropna()"
      ],
      "metadata": {
        "id": "x4jPJeEZJ81s"
      },
      "execution_count": 12,
      "outputs": []
    },
    {
      "cell_type": "code",
      "source": [
        "# Count missing values\n",
        "missing_values_df = count_missing_values(df)\n",
        "\n",
        "# Show the counts of missing values per column\n",
        "missing_values_df.show()"
      ],
      "metadata": {
        "colab": {
          "base_uri": "https://localhost:8080/"
        },
        "id": "sxG6rjVhKJU7",
        "outputId": "696f073e-dafb-4e81-c480-11c446b49f8d"
      },
      "execution_count": 13,
      "outputs": [
        {
          "output_type": "stream",
          "name": "stdout",
          "text": [
            "+---+-------+---------+------------------------+-----+----+--------------+------+------+--------------+----+\n",
            "|Age|Overall|Potential|International Reputation|Value|Wage|Release Clause|Height|Weight|Preferred Foot|Club|\n",
            "+---+-------+---------+------------------------+-----+----+--------------+------+------+--------------+----+\n",
            "|  0|      0|        0|                       0|    0|   0|             0|     0|     0|            48| 241|\n",
            "+---+-------+---------+------------------------+-----+----+--------------+------+------+--------------+----+\n",
            "\n"
          ]
        }
      ]
    },
    {
      "cell_type": "code",
      "source": [
        "df = df.dropna(how = 'any')"
      ],
      "metadata": {
        "id": "etYTKUAZKP47"
      },
      "execution_count": 14,
      "outputs": []
    },
    {
      "cell_type": "code",
      "source": [
        "# Count missing values\n",
        "missing_values_df = count_missing_values(df)\n",
        "\n",
        "# Show the counts of missing values per column\n",
        "missing_values_df.show()"
      ],
      "metadata": {
        "colab": {
          "base_uri": "https://localhost:8080/"
        },
        "id": "xY1gGrIYKS8z",
        "outputId": "351c5923-d088-441e-9b99-196d4c8cb83c"
      },
      "execution_count": 15,
      "outputs": [
        {
          "output_type": "stream",
          "name": "stdout",
          "text": [
            "+---+-------+---------+------------------------+-----+----+--------------+------+------+--------------+----+\n",
            "|Age|Overall|Potential|International Reputation|Value|Wage|Release Clause|Height|Weight|Preferred Foot|Club|\n",
            "+---+-------+---------+------------------------+-----+----+--------------+------+------+--------------+----+\n",
            "|  0|      0|        0|                       0|    0|   0|             0|     0|     0|             0|   0|\n",
            "+---+-------+---------+------------------------+-----+----+--------------+------+------+--------------+----+\n",
            "\n"
          ]
        }
      ]
    },
    {
      "cell_type": "markdown",
      "source": [
        "# OneHot Encodding For preferred Foot - Categorical feature"
      ],
      "metadata": {
        "id": "tQSpfvKSBELk"
      }
    },
    {
      "cell_type": "code",
      "source": [
        "# Determine values for nulls in a pseodo-random fashion for Preferred Foot\n",
        "from pyspark.ml.feature import OneHotEncoder\n",
        "from pyspark.ml.feature import StringIndexer\n",
        "\n",
        "binary_columns = ['Preferred Foot'] #onehot\n",
        "categorical_columns = ['Club'] #word2Vec\n",
        "\n",
        "df = df.withColumn(\"Preferred Foot\",\n",
        "                   when(col(\"Preferred Foot\").isNull(),\n",
        "                        when((col(\"Age\") % 2) == 0, \"Left\").otherwise(\"Right\"))\n",
        "                   .otherwise(col(\"Preferred Foot\")))\n",
        "\n",
        "\n",
        "# Convert 'Preferred Foot' into numeric categories\n",
        "indexer = StringIndexer(inputCol=\"Preferred Foot\", outputCol=\"Preferred Foot Numeric\")\n",
        "df = indexer.fit(df).transform(df)\n",
        "\n",
        "\n",
        "# Apply one-hot encoding\n",
        "encoder = OneHotEncoder(inputCols=[\"Preferred Foot Numeric\"], outputCols=[\"Preferred Foot Vector\"])\n",
        "df = encoder.fit(df).transform(df)\n",
        "\n",
        "# Show some of the processed data\n",
        "df.select(\"Preferred Foot\", \"Preferred Foot Numeric\", \"Preferred Foot Vector\").show()\n"
      ],
      "metadata": {
        "colab": {
          "base_uri": "https://localhost:8080/"
        },
        "id": "jQ_PiU9_4rSF",
        "outputId": "7debafc4-aac8-4cd1-a167-13083b4d149a"
      },
      "execution_count": 16,
      "outputs": [
        {
          "output_type": "stream",
          "name": "stdout",
          "text": [
            "+--------------+----------------------+---------------------+\n",
            "|Preferred Foot|Preferred Foot Numeric|Preferred Foot Vector|\n",
            "+--------------+----------------------+---------------------+\n",
            "|          Left|                   1.0|            (1,[],[])|\n",
            "|         Right|                   0.0|        (1,[0],[1.0])|\n",
            "|         Right|                   0.0|        (1,[0],[1.0])|\n",
            "|         Right|                   0.0|        (1,[0],[1.0])|\n",
            "|         Right|                   0.0|        (1,[0],[1.0])|\n",
            "|         Right|                   0.0|        (1,[0],[1.0])|\n",
            "|         Right|                   0.0|        (1,[0],[1.0])|\n",
            "|         Right|                   0.0|        (1,[0],[1.0])|\n",
            "|         Right|                   0.0|        (1,[0],[1.0])|\n",
            "|         Right|                   0.0|        (1,[0],[1.0])|\n",
            "|         Right|                   0.0|        (1,[0],[1.0])|\n",
            "|         Right|                   0.0|        (1,[0],[1.0])|\n",
            "|         Right|                   0.0|        (1,[0],[1.0])|\n",
            "|          Left|                   1.0|            (1,[],[])|\n",
            "|         Right|                   0.0|        (1,[0],[1.0])|\n",
            "|          Left|                   1.0|            (1,[],[])|\n",
            "|         Right|                   0.0|        (1,[0],[1.0])|\n",
            "|          Left|                   1.0|            (1,[],[])|\n",
            "|         Right|                   0.0|        (1,[0],[1.0])|\n",
            "|          Left|                   1.0|            (1,[],[])|\n",
            "+--------------+----------------------+---------------------+\n",
            "only showing top 20 rows\n",
            "\n"
          ]
        }
      ]
    },
    {
      "cell_type": "code",
      "source": [
        "df.select('Club').distinct().count()"
      ],
      "metadata": {
        "colab": {
          "base_uri": "https://localhost:8080/"
        },
        "id": "YlJOLWTtjVdV",
        "outputId": "90760728-225c-4ff4-ff51-1dd4cddd7474"
      },
      "execution_count": 17,
      "outputs": [
        {
          "output_type": "execute_result",
          "data": {
            "text/plain": [
              "651"
            ]
          },
          "metadata": {},
          "execution_count": 17
        }
      ]
    },
    {
      "cell_type": "markdown",
      "source": [
        "# Club feature has many distinctive categories, hence we will encode them using Hashing feature"
      ],
      "metadata": {
        "id": "V7RtMAkMBUba"
      }
    },
    {
      "cell_type": "code",
      "source": [
        "# Feature Hasher for categorical feature 'Club' with many distinct values\n",
        "from pyspark.ml.feature import HashingTF\n",
        "from pyspark.ml.feature import Tokenizer\n",
        "\n",
        "tokenizer = Tokenizer(inputCol=\"Club\", outputCol=\"Club_Tokens\")\n",
        "df = tokenizer.transform(df)\n",
        "\n"
      ],
      "metadata": {
        "id": "FciC8_2si_79"
      },
      "execution_count": 18,
      "outputs": []
    },
    {
      "cell_type": "code",
      "source": [
        "hashingTF = HashingTF(inputCol=\"Club_Tokens\", outputCol=\"Club_Hashed\", numFeatures=60)  # Select an appropriate number of features\n",
        "hashed_df = hashingTF.transform(df)"
      ],
      "metadata": {
        "id": "IxjHb-oRkV2d"
      },
      "execution_count": 19,
      "outputs": []
    },
    {
      "cell_type": "code",
      "source": [
        "hashed_df.select('Preferred Foot Vector').show(5)\n",
        "hashed_df.select('Club_Hashed').show(5)\n",
        "hashed_df.select('Height').show(5)\n",
        "hashed_df.select('Weight').show(5)"
      ],
      "metadata": {
        "colab": {
          "base_uri": "https://localhost:8080/"
        },
        "id": "SPctCvWpgxad",
        "outputId": "7e492467-b2e8-4575-fb7a-50ea6e034ec4"
      },
      "execution_count": 20,
      "outputs": [
        {
          "output_type": "stream",
          "name": "stdout",
          "text": [
            "+---------------------+\n",
            "|Preferred Foot Vector|\n",
            "+---------------------+\n",
            "|            (1,[],[])|\n",
            "|        (1,[0],[1.0])|\n",
            "|        (1,[0],[1.0])|\n",
            "|        (1,[0],[1.0])|\n",
            "|        (1,[0],[1.0])|\n",
            "+---------------------+\n",
            "only showing top 5 rows\n",
            "\n",
            "+--------------------+\n",
            "|         Club_Hashed|\n",
            "+--------------------+\n",
            "|(60,[52,57],[1.0,...|\n",
            "|     (60,[16],[1.0])|\n",
            "|(60,[6,19],[1.0,1...|\n",
            "|(60,[3,17],[1.0,1...|\n",
            "|(60,[17,55],[1.0,...|\n",
            "+--------------------+\n",
            "only showing top 5 rows\n",
            "\n",
            "+------+\n",
            "|Height|\n",
            "+------+\n",
            "|170.18|\n",
            "|187.96|\n",
            "|175.26|\n",
            "|193.04|\n",
            "|180.34|\n",
            "+------+\n",
            "only showing top 5 rows\n",
            "\n",
            "+---------+\n",
            "|   Weight|\n",
            "+---------+\n",
            "|72.121124|\n",
            "| 83.00734|\n",
            "|  68.0388|\n",
            "| 76.20345|\n",
            "|69.853165|\n",
            "+---------+\n",
            "only showing top 5 rows\n",
            "\n"
          ]
        }
      ]
    },
    {
      "cell_type": "markdown",
      "source": [
        "# Creating a data set and a feature column from all the transformed features"
      ],
      "metadata": {
        "id": "VwXAhlRqk6sX"
      }
    },
    {
      "cell_type": "code",
      "source": [
        "hashed_df.printSchema()"
      ],
      "metadata": {
        "colab": {
          "base_uri": "https://localhost:8080/"
        },
        "collapsed": true,
        "id": "6sGerMObKwSv",
        "outputId": "bc2027f3-34a5-4b51-c052-b0426af50109"
      },
      "execution_count": 21,
      "outputs": [
        {
          "output_type": "stream",
          "name": "stdout",
          "text": [
            "root\n",
            " |-- Age: integer (nullable = true)\n",
            " |-- Overall: integer (nullable = true)\n",
            " |-- Potential: integer (nullable = true)\n",
            " |-- International Reputation: integer (nullable = true)\n",
            " |-- Value: float (nullable = false)\n",
            " |-- Wage: float (nullable = false)\n",
            " |-- Release Clause: float (nullable = false)\n",
            " |-- Height: float (nullable = false)\n",
            " |-- Weight: float (nullable = false)\n",
            " |-- Preferred Foot: string (nullable = true)\n",
            " |-- Club: string (nullable = true)\n",
            " |-- Preferred Foot Numeric: double (nullable = false)\n",
            " |-- Preferred Foot Vector: vector (nullable = true)\n",
            " |-- Club_Tokens: array (nullable = true)\n",
            " |    |-- element: string (containsNull = true)\n",
            " |-- Club_Hashed: vector (nullable = true)\n",
            "\n"
          ]
        }
      ]
    },
    {
      "cell_type": "code",
      "source": [
        "data_columns = []\n",
        "data_columns.extend(numerical_columns)\n",
        "data_columns.append('Preferred Foot Vector')\n",
        "data_columns.extend(currency_columns)\n",
        "data_columns.extend(height_weight_columns)\n",
        "data_columns.append('Club_Hashed')\n",
        " #['Age', 'Club_Hashed', 'Height', 'Weight', 'Overall', 'Potential', 'International Reputation', 'Value', 'Wage', 'Release Clause', 'Preferred Foot Vector']\n",
        "dataset = hashed_df.select(*data_columns)\n",
        "dataset.show(5)"
      ],
      "metadata": {
        "colab": {
          "base_uri": "https://localhost:8080/"
        },
        "id": "iFPnMxahkmsm",
        "outputId": "058530ab-f4f3-49ef-a90d-a3186d971c83"
      },
      "execution_count": 22,
      "outputs": [
        {
          "output_type": "stream",
          "name": "stdout",
          "text": [
            "+---+-------+---------+------------------------+---------------------+-------+--------+--------------+------+---------+--------------------+\n",
            "|Age|Overall|Potential|International Reputation|Preferred Foot Vector|  Value|    Wage|Release Clause|Height|   Weight|         Club_Hashed|\n",
            "+---+-------+---------+------------------------+---------------------+-------+--------+--------------+------+---------+--------------------+\n",
            "| 31|     94|       94|                       5|            (1,[],[])|1.105E8|565000.0|       2.265E8|170.18|72.121124|(60,[52,57],[1.0,...|\n",
            "| 33|     94|       94|                       5|        (1,[0],[1.0])|  7.7E7|405000.0|       1.271E8|187.96| 83.00734|     (60,[16],[1.0])|\n",
            "| 26|     92|       93|                       5|        (1,[0],[1.0])|1.185E8|290000.0|       2.281E8|175.26|  68.0388|(60,[6,19],[1.0,1...|\n",
            "| 27|     91|       93|                       4|        (1,[0],[1.0])|  7.2E7|260000.0|       1.386E8|193.04| 76.20345|(60,[3,17],[1.0,1...|\n",
            "| 27|     91|       92|                       4|        (1,[0],[1.0])| 1.02E8|355000.0|       1.964E8|180.34|69.853165|(60,[17,55],[1.0,...|\n",
            "+---+-------+---------+------------------------+---------------------+-------+--------+--------------+------+---------+--------------------+\n",
            "only showing top 5 rows\n",
            "\n"
          ]
        }
      ]
    },
    {
      "cell_type": "code",
      "source": [
        "dataset.describe().show()"
      ],
      "metadata": {
        "colab": {
          "base_uri": "https://localhost:8080/"
        },
        "id": "lxygtrrk_lG0",
        "outputId": "4afe33d3-9de6-4999-e5be-b32a18f051bd"
      },
      "execution_count": 23,
      "outputs": [
        {
          "output_type": "stream",
          "name": "stdout",
          "text": [
            "+-------+------------------+-----------------+-----------------+------------------------+------------------+-----------------+--------------------+------------------+-----------------+\n",
            "|summary|               Age|          Overall|        Potential|International Reputation|             Value|             Wage|      Release Clause|            Height|           Weight|\n",
            "+-------+------------------+-----------------+-----------------+------------------------+------------------+-----------------+--------------------+------------------+-----------------+\n",
            "|  count|             17918|            17918|            17918|                   17918|             17918|            17918|               17918|             17918|            17918|\n",
            "|   mean|25.105257283178926|66.23680098225249| 71.3293336309856|      1.1139078022100681|2448628.7532090633|9883.748186181494|   4585060.987554414|181.25702543244827|75.28214594311633|\n",
            "| stddev|   4.6753715836753|6.929243384157863|6.144097650621002|      0.3954952411575538| 5631804.209164089|22142.76898723982|1.0715805403533481E7| 6.730341584375442|7.077888039980355|\n",
            "|    min|                16|               46|               48|                       1|               0.0|           1000.0|             13000.0|            154.94|         49.89512|\n",
            "|    max|                45|               94|               95|                       5|           1.185E8|         565000.0|             2.281E8|            205.74|       110.222855|\n",
            "+-------+------------------+-----------------+-----------------+------------------------+------------------+-----------------+--------------------+------------------+-----------------+\n",
            "\n"
          ]
        }
      ]
    },
    {
      "cell_type": "code",
      "source": [
        "dataset.printSchema()"
      ],
      "metadata": {
        "colab": {
          "base_uri": "https://localhost:8080/"
        },
        "id": "r1ImmLsVej88",
        "outputId": "2225749c-9167-4b73-fa9e-342bb6896ac8"
      },
      "execution_count": 24,
      "outputs": [
        {
          "output_type": "stream",
          "name": "stdout",
          "text": [
            "root\n",
            " |-- Age: integer (nullable = true)\n",
            " |-- Overall: integer (nullable = true)\n",
            " |-- Potential: integer (nullable = true)\n",
            " |-- International Reputation: integer (nullable = true)\n",
            " |-- Preferred Foot Vector: vector (nullable = true)\n",
            " |-- Value: float (nullable = false)\n",
            " |-- Wage: float (nullable = false)\n",
            " |-- Release Clause: float (nullable = false)\n",
            " |-- Height: float (nullable = false)\n",
            " |-- Weight: float (nullable = false)\n",
            " |-- Club_Hashed: vector (nullable = true)\n",
            "\n"
          ]
        }
      ]
    },
    {
      "cell_type": "markdown",
      "source": [
        "# Creating assembeled column for clustering"
      ],
      "metadata": {
        "id": "iYvNGu0IL7dD"
      }
    },
    {
      "cell_type": "code",
      "source": [
        "from pyspark.ml.feature import VectorAssembler\n",
        "\n",
        "# Create the VectorAssembler\n",
        "#data_columns.remove('Wage')\n",
        "assembler = VectorAssembler(inputCols=data_columns, outputCol=\"features\",handleInvalid=\"skip\")\n",
        "\n",
        "# Transform the data to have the features column\n",
        "dataset_assembled = assembler.transform(dataset)\n",
        "dataset_assembled.show(5)\n"
      ],
      "metadata": {
        "colab": {
          "base_uri": "https://localhost:8080/"
        },
        "id": "JSh__a9rrLFr",
        "outputId": "fca29390-9140-4329-be90-7623ff0187b6"
      },
      "execution_count": 25,
      "outputs": [
        {
          "output_type": "stream",
          "name": "stdout",
          "text": [
            "+---+-------+---------+------------------------+---------------------+-------+--------+--------------+------+---------+--------------------+--------------------+\n",
            "|Age|Overall|Potential|International Reputation|Preferred Foot Vector|  Value|    Wage|Release Clause|Height|   Weight|         Club_Hashed|            features|\n",
            "+---+-------+---------+------------------------+---------------------+-------+--------+--------------+------+---------+--------------------+--------------------+\n",
            "| 31|     94|       94|                       5|            (1,[],[])|1.105E8|565000.0|       2.265E8|170.18|72.121124|(60,[52,57],[1.0,...|(70,[0,1,2,3,5,6,...|\n",
            "| 33|     94|       94|                       5|        (1,[0],[1.0])|  7.7E7|405000.0|       1.271E8|187.96| 83.00734|     (60,[16],[1.0])|(70,[0,1,2,3,4,5,...|\n",
            "| 26|     92|       93|                       5|        (1,[0],[1.0])|1.185E8|290000.0|       2.281E8|175.26|  68.0388|(60,[6,19],[1.0,1...|(70,[0,1,2,3,4,5,...|\n",
            "| 27|     91|       93|                       4|        (1,[0],[1.0])|  7.2E7|260000.0|       1.386E8|193.04| 76.20345|(60,[3,17],[1.0,1...|(70,[0,1,2,3,4,5,...|\n",
            "| 27|     91|       92|                       4|        (1,[0],[1.0])| 1.02E8|355000.0|       1.964E8|180.34|69.853165|(60,[17,55],[1.0,...|(70,[0,1,2,3,4,5,...|\n",
            "+---+-------+---------+------------------------+---------------------+-------+--------+--------------+------+---------+--------------------+--------------------+\n",
            "only showing top 5 rows\n",
            "\n"
          ]
        }
      ]
    },
    {
      "cell_type": "code",
      "source": [
        "dataset_assembled.select('features').first()\n"
      ],
      "metadata": {
        "colab": {
          "base_uri": "https://localhost:8080/"
        },
        "id": "a_5kMJVkrosL",
        "outputId": "feb2b8dc-b426-4890-c9b1-87b01d4d73bb"
      },
      "execution_count": 26,
      "outputs": [
        {
          "output_type": "execute_result",
          "data": {
            "text/plain": [
              "Row(features=SparseVector(70, {0: 31.0, 1: 94.0, 2: 94.0, 3: 5.0, 5: 110500000.0, 6: 565000.0, 7: 226500000.0, 8: 170.18, 9: 72.1211, 62: 1.0, 67: 1.0}))"
            ]
          },
          "metadata": {},
          "execution_count": 26
        }
      ]
    },
    {
      "cell_type": "code",
      "source": [
        "dataset_assembled.show(truncate=False)"
      ],
      "metadata": {
        "colab": {
          "base_uri": "https://localhost:8080/"
        },
        "id": "W6vb23EGPcCq",
        "outputId": "afd55820-c761-449f-82b9-5b83ec54829f"
      },
      "execution_count": 27,
      "outputs": [
        {
          "output_type": "stream",
          "name": "stdout",
          "text": [
            "+---+-------+---------+------------------------+---------------------+-------+--------+--------------+------+---------+----------------------------+-----------------------------------------------------------------------------------------------------------------------------------+\n",
            "|Age|Overall|Potential|International Reputation|Preferred Foot Vector|Value  |Wage    |Release Clause|Height|Weight   |Club_Hashed                 |features                                                                                                                           |\n",
            "+---+-------+---------+------------------------+---------------------+-------+--------+--------------+------+---------+----------------------------+-----------------------------------------------------------------------------------------------------------------------------------+\n",
            "|31 |94     |94       |5                       |(1,[],[])            |1.105E8|565000.0|2.265E8       |170.18|72.121124|(60,[52,57],[1.0,1.0])      |(70,[0,1,2,3,5,6,7,8,9,62,67],[31.0,94.0,94.0,5.0,1.105E8,565000.0,2.265E8,170.17999267578125,72.12112426757812,1.0,1.0])          |\n",
            "|33 |94     |94       |5                       |(1,[0],[1.0])        |7.7E7  |405000.0|1.271E8       |187.96|83.00734 |(60,[16],[1.0])             |(70,[0,1,2,3,4,5,6,7,8,9,26],[33.0,94.0,94.0,5.0,1.0,7.7E7,405000.0,1.271E8,187.9600067138672,83.00733947753906,1.0])              |\n",
            "|26 |92     |93       |5                       |(1,[0],[1.0])        |1.185E8|290000.0|2.281E8       |175.26|68.0388  |(60,[6,19],[1.0,1.0])       |(70,[0,1,2,3,4,5,6,7,8,9,16,29],[26.0,92.0,93.0,5.0,1.0,1.185E8,290000.0,2.281E8,175.25999450683594,68.03880310058594,1.0,1.0])    |\n",
            "|27 |91     |93       |4                       |(1,[0],[1.0])        |7.2E7  |260000.0|1.386E8       |193.04|76.20345 |(60,[3,17],[1.0,1.0])       |(70,[0,1,2,3,4,5,6,7,8,9,13,27],[27.0,91.0,93.0,4.0,1.0,7.2E7,260000.0,1.386E8,193.0399932861328,76.20345306396484,1.0,1.0])       |\n",
            "|27 |91     |92       |4                       |(1,[0],[1.0])        |1.02E8 |355000.0|1.964E8       |180.34|69.853165|(60,[17,55],[1.0,1.0])      |(70,[0,1,2,3,4,5,6,7,8,9,27,65],[27.0,91.0,92.0,4.0,1.0,1.02E8,355000.0,1.964E8,180.33999633789062,69.85316467285156,1.0,1.0])     |\n",
            "|27 |91     |91       |4                       |(1,[0],[1.0])        |9.3E7  |340000.0|1.721E8       |172.72|73.93549 |(60,[53],[1.0])             |(70,[0,1,2,3,4,5,6,7,8,9,63],[27.0,91.0,91.0,4.0,1.0,9.3E7,340000.0,1.721E8,172.72000122070312,73.93549346923828,1.0])             |\n",
            "|32 |91     |91       |4                       |(1,[0],[1.0])        |6.7E7  |420000.0|1.374E8       |172.72|66.224434|(60,[37,51],[1.0,1.0])      |(70,[0,1,2,3,4,5,6,7,8,9,47,61],[32.0,91.0,91.0,4.0,1.0,6.7E7,420000.0,1.374E8,172.72000122070312,66.22443389892578,1.0,1.0])      |\n",
            "|31 |91     |91       |5                       |(1,[0],[1.0])        |8.0E7  |455000.0|1.64E8        |182.88|86.18248 |(60,[52,57],[1.0,1.0])      |(70,[0,1,2,3,4,5,6,7,8,9,62,67],[31.0,91.0,91.0,5.0,1.0,8.0E7,455000.0,1.64E8,182.8800048828125,86.18247985839844,1.0,1.0])        |\n",
            "|32 |91     |91       |4                       |(1,[0],[1.0])        |5.1E7  |380000.0|1.046E8       |182.88|82.10015 |(60,[37,51],[1.0,1.0])      |(70,[0,1,2,3,4,5,6,7,8,9,47,61],[32.0,91.0,91.0,4.0,1.0,5.1E7,380000.0,1.046E8,182.8800048828125,82.10015106201172,1.0,1.0])       |\n",
            "|25 |90     |93       |3                       |(1,[0],[1.0])        |6.8E7  |94000.0 |1.445E8       |187.96|87.08966 |(60,[31,37],[1.0,1.0])      |(70,[0,1,2,3,4,5,6,7,8,9,41,47],[25.0,90.0,93.0,3.0,1.0,6.8E7,94000.0,1.445E8,187.9600067138672,87.08966064453125,1.0,1.0])        |\n",
            "|29 |90     |90       |4                       |(1,[0],[1.0])        |7.7E7  |205000.0|1.271E8       |182.88|79.83219 |(60,[4,47,52],[1.0,1.0,1.0])|(70,[0,1,2,3,4,5,6,7,8,9,14,57,62],[29.0,90.0,90.0,4.0,1.0,7.7E7,205000.0,1.271E8,182.8800048828125,79.83219146728516,1.0,1.0,1.0])|\n",
            "|28 |90     |90       |4                       |(1,[0],[1.0])        |7.65E7 |355000.0|1.568E8       |182.88|76.20345 |(60,[37,51],[1.0,1.0])      |(70,[0,1,2,3,4,5,6,7,8,9,47,61],[28.0,90.0,90.0,4.0,1.0,7.65E7,355000.0,1.568E8,182.8800048828125,76.20345306396484,1.0,1.0])      |\n",
            "|32 |90     |90       |3                       |(1,[0],[1.0])        |4.4E7  |125000.0|9.02E7        |187.96|78.01782 |(60,[31,37],[1.0,1.0])      |(70,[0,1,2,3,4,5,6,7,8,9,41,47],[32.0,90.0,90.0,3.0,1.0,4.4E7,125000.0,9.02E7,187.9600067138672,78.017822265625,1.0,1.0])          |\n",
            "|32 |90     |90       |4                       |(1,[],[])            |6.0E7  |285000.0|1.11E8        |172.72|67.131615|(60,[17,55],[1.0,1.0])      |(70,[0,1,2,3,5,6,7,8,9,27,65],[32.0,90.0,90.0,4.0,6.0E7,285000.0,1.11E8,172.72000122070312,67.1316146850586,1.0,1.0])              |\n",
            "|27 |89     |90       |3                       |(1,[0],[1.0])        |6.3E7  |225000.0|1.213E8       |167.64|72.121124|(60,[53],[1.0])             |(70,[0,1,2,3,4,5,6,7,8,9,63],[27.0,89.0,90.0,3.0,1.0,6.3E7,225000.0,1.213E8,167.63999938964844,72.12112426757812,1.0])             |\n",
            "|24 |89     |94       |3                       |(1,[],[])            |8.9E7  |205000.0|1.535E8       |177.8 |74.84268 |(60,[16],[1.0])             |(70,[0,1,2,3,5,6,7,8,9,26],[24.0,89.0,94.0,3.0,8.9E7,205000.0,1.535E8,177.8000030517578,74.84268188476562,1.0])                    |\n",
            "|24 |89     |91       |3                       |(1,[0],[1.0])        |8.35E7 |205000.0|1.607E8       |187.96|88.90403 |(60,[10,15],[1.0,1.0])      |(70,[0,1,2,3,4,5,6,7,8,9,20,25],[24.0,89.0,91.0,3.0,1.0,8.35E7,205000.0,1.607E8,187.9600067138672,88.9040298461914,1.0,1.0])       |\n",
            "|27 |89     |90       |4                       |(1,[],[])            |7.8E7  |145000.0|1.658E8       |175.26|73.02831 |(60,[31,37],[1.0,1.0])      |(70,[0,1,2,3,5,6,7,8,9,41,47],[27.0,89.0,90.0,4.0,7.8E7,145000.0,1.658E8,175.25999450683594,73.02831268310547,1.0,1.0])            |\n",
            "|26 |89     |92       |3                       |(1,[0],[1.0])        |5.8E7  |240000.0|1.233E8       |187.96|84.8217  |(60,[52,57],[1.0,1.0])      |(70,[0,1,2,3,4,5,6,7,8,9,62,67],[26.0,89.0,92.0,3.0,1.0,5.8E7,240000.0,1.233E8,187.9600067138672,84.82170104980469,1.0,1.0])       |\n",
            "|26 |89     |90       |4                       |(1,[],[])            |5.35E7 |240000.0|1.137E8       |198.12|96.16151 |(60,[37,51],[1.0,1.0])      |(70,[0,1,2,3,5,6,7,8,9,47,61],[26.0,89.0,90.0,4.0,5.35E7,240000.0,1.137E8,198.1199951171875,96.16150665283203,1.0,1.0])            |\n",
            "+---+-------+---------+------------------------+---------------------+-------+--------+--------------+------+---------+----------------------------+-----------------------------------------------------------------------------------------------------------------------------------+\n",
            "only showing top 20 rows\n",
            "\n"
          ]
        }
      ]
    },
    {
      "cell_type": "code",
      "source": [
        "# This part is due to an error with UDF i had\n",
        "dataset_assembled.cache()  # Cache the DataFrame\n",
        "dataset_assembled.count() # Trigger an action to populate the cache"
      ],
      "metadata": {
        "colab": {
          "base_uri": "https://localhost:8080/"
        },
        "id": "X3RukXTkS_vB",
        "outputId": "fdf479e5-6649-4eca-ab3e-37a3bb96053c"
      },
      "execution_count": 28,
      "outputs": [
        {
          "output_type": "execute_result",
          "data": {
            "text/plain": [
              "17918"
            ]
          },
          "metadata": {},
          "execution_count": 28
        }
      ]
    },
    {
      "cell_type": "code",
      "source": [
        "#print(dataset_assembled.explain())"
      ],
      "metadata": {
        "id": "-sTtSGeFSHti"
      },
      "execution_count": 29,
      "outputs": []
    },
    {
      "cell_type": "markdown",
      "source": [
        "# Now Dataset contains 10 features for model training.\n",
        "\n",
        "I'll use KMeans clustering model to seperate the dataset to clusters and silhoutte score in order to identify the best seperation."
      ],
      "metadata": {
        "id": "nTyTLnnEfQ1q"
      }
    },
    {
      "cell_type": "code",
      "source": [
        "from pyspark.ml.clustering import KMeans\n",
        "from pyspark.ml.evaluation import ClusteringEvaluator\n",
        "from pyspark.ml.linalg import Vectors"
      ],
      "metadata": {
        "id": "sdATYVNsg_cn"
      },
      "execution_count": 30,
      "outputs": []
    },
    {
      "cell_type": "code",
      "source": [
        "score = []\n",
        "amount = []\n",
        "def clusteringData(df, score, amount):\n",
        "  #score = score\n",
        "  #amount = []\n",
        "  clusters = 30\n",
        "  for cluster in range(2, clusters):\n",
        "      kmeans = KMeans().setK(cluster).setSeed(1234)\n",
        "      model = kmeans.fit(df)\n",
        "          # Make predictions\n",
        "      predictions = model.transform(df)\n",
        "          # Evaluate clustering by computing Silhouette score\n",
        "      evaluator = ClusteringEvaluator()\n",
        "\n",
        "      silhouette = evaluator.evaluate(predictions)\n",
        "      score.append(silhouette)\n",
        "      amount.append(cluster)\n",
        "      print(cluster, \" Silhouette with squared euclidean distance = \" + str(silhouette))\n",
        "\n",
        "clusteringData(dataset_assembled,score,amount)"
      ],
      "metadata": {
        "colab": {
          "base_uri": "https://localhost:8080/"
        },
        "id": "4YrC4mtECmBO",
        "outputId": "533100e1-6c88-43ab-d668-0b572d14f710"
      },
      "execution_count": 31,
      "outputs": [
        {
          "output_type": "stream",
          "name": "stdout",
          "text": [
            "2  Silhouette with squared euclidean distance = 0.9639989123280025\n",
            "3  Silhouette with squared euclidean distance = 0.9169613193107534\n",
            "4  Silhouette with squared euclidean distance = 0.9081343300290974\n",
            "5  Silhouette with squared euclidean distance = 0.8966782743452083\n",
            "6  Silhouette with squared euclidean distance = 0.8612658669061759\n",
            "7  Silhouette with squared euclidean distance = 0.7970022454743415\n",
            "8  Silhouette with squared euclidean distance = 0.8021856403990195\n",
            "9  Silhouette with squared euclidean distance = 0.8068492391867879\n",
            "10  Silhouette with squared euclidean distance = 0.8100583333958316\n",
            "11  Silhouette with squared euclidean distance = 0.8012268685347028\n",
            "12  Silhouette with squared euclidean distance = 0.8057518644394658\n",
            "13  Silhouette with squared euclidean distance = 0.8054154866901616\n",
            "14  Silhouette with squared euclidean distance = 0.8022990107509135\n",
            "15  Silhouette with squared euclidean distance = 0.8099809934226303\n",
            "16  Silhouette with squared euclidean distance = 0.7836539285925808\n",
            "17  Silhouette with squared euclidean distance = 0.7093767110721132\n",
            "18  Silhouette with squared euclidean distance = 0.7870688397121609\n",
            "19  Silhouette with squared euclidean distance = 0.7857143138402507\n",
            "20  Silhouette with squared euclidean distance = 0.716938273254714\n",
            "21  Silhouette with squared euclidean distance = 0.7036451149991683\n",
            "22  Silhouette with squared euclidean distance = 0.7128916259260081\n",
            "23  Silhouette with squared euclidean distance = 0.6789628473740317\n",
            "24  Silhouette with squared euclidean distance = 0.6790275824766648\n",
            "25  Silhouette with squared euclidean distance = 0.6777702393990881\n",
            "26  Silhouette with squared euclidean distance = 0.7103416463486651\n",
            "27  Silhouette with squared euclidean distance = 0.6924386634392141\n",
            "28  Silhouette with squared euclidean distance = 0.6987736728196522\n",
            "29  Silhouette with squared euclidean distance = 0.700253632136661\n"
          ]
        }
      ]
    },
    {
      "cell_type": "code",
      "source": [
        "# Create a scatter plot\n",
        "import matplotlib.pyplot as plt\n",
        "\n",
        "def plot_silhouette(score, amount):\n",
        "  plt.figure(figsize=(10, 6))\n",
        "  plt.scatter(amount, score, color='blue')\n",
        "  plt.title('Silhouette Scores by Number of Clusters')\n",
        "  plt.xlabel('Number of Clusters')\n",
        "  plt.ylabel('Silhouette Score')\n",
        "  plt.grid(True)\n",
        "  plt.show()\n",
        "\n",
        "plot_silhouette(score, amount)"
      ],
      "metadata": {
        "colab": {
          "base_uri": "https://localhost:8080/",
          "height": 564
        },
        "id": "ZKw8mmV8DZTb",
        "outputId": "89e93f25-f90d-49cb-d1a8-3cdf01bfb670"
      },
      "execution_count": 33,
      "outputs": [
        {
          "output_type": "display_data",
          "data": {
            "text/plain": [
              "<Figure size 1000x600 with 1 Axes>"
            ],
            "image/png": "[encoded data removed]"
          },
          "metadata": {}
        }
      ]
    },
    {
      "cell_type": "markdown",
      "source": [
        "# Conclusion - 2,3,4,5,6 is the best clusters.\n",
        "\n",
        "For the best clusters, we will check how many players with highest salary belong to same cluster."
      ],
      "metadata": {
        "id": "g1WxlufNVWUS"
      }
    },
    {
      "cell_type": "code",
      "source": [
        "top_players = dataset_assembled.orderBy(col(\"Wage\").desc()).limit(10)\n",
        "top_players.show()"
      ],
      "metadata": {
        "colab": {
          "base_uri": "https://localhost:8080/"
        },
        "id": "URko4st4WKpq",
        "outputId": "68dd4d72-ff48-44e0-9ba0-cceec43cb163"
      },
      "execution_count": 34,
      "outputs": [
        {
          "output_type": "stream",
          "name": "stdout",
          "text": [
            "+---+-------+---------+------------------------+---------------------+-------+--------+--------------+------+---------+--------------------+--------------------+\n",
            "|Age|Overall|Potential|International Reputation|Preferred Foot Vector|  Value|    Wage|Release Clause|Height|   Weight|         Club_Hashed|            features|\n",
            "+---+-------+---------+------------------------+---------------------+-------+--------+--------------+------+---------+--------------------+--------------------+\n",
            "| 31|     94|       94|                       5|            (1,[],[])|1.105E8|565000.0|       2.265E8|170.18|72.121124|(60,[52,57],[1.0,...|(70,[0,1,2,3,5,6,...|\n",
            "| 31|     91|       91|                       5|        (1,[0],[1.0])|  8.0E7|455000.0|        1.64E8|182.88| 86.18248|(60,[52,57],[1.0,...|(70,[0,1,2,3,4,5,...|\n",
            "| 32|     91|       91|                       4|        (1,[0],[1.0])|  6.7E7|420000.0|       1.374E8|172.72|66.224434|(60,[37,51],[1.0,...|(70,[0,1,2,3,4,5,...|\n",
            "| 33|     94|       94|                       5|        (1,[0],[1.0])|  7.7E7|405000.0|       1.271E8|187.96| 83.00734|     (60,[16],[1.0])|(70,[0,1,2,3,4,5,...|\n",
            "| 32|     91|       91|                       4|        (1,[0],[1.0])|  5.1E7|380000.0|       1.046E8|182.88| 82.10015|(60,[37,51],[1.0,...|(70,[0,1,2,3,4,5,...|\n",
            "| 27|     91|       92|                       4|        (1,[0],[1.0])| 1.02E8|355000.0|       1.964E8|180.34|69.853165|(60,[17,55],[1.0,...|(70,[0,1,2,3,4,5,...|\n",
            "| 28|     90|       90|                       4|        (1,[0],[1.0])| 7.65E7|355000.0|       1.568E8|182.88| 76.20345|(60,[37,51],[1.0,...|(70,[0,1,2,3,4,5,...|\n",
            "| 28|     88|       88|                       4|            (1,[],[])|  6.0E7|355000.0|        1.23E8|185.42| 82.10015|(60,[37,51],[1.0,...|(70,[0,1,2,3,5,6,...|\n",
            "| 27|     91|       91|                       4|        (1,[0],[1.0])|  9.3E7|340000.0|       1.721E8|172.72| 73.93549|     (60,[53],[1.0])|(70,[0,1,2,3,4,5,...|\n",
            "| 26|     88|       89|                       3|        (1,[0],[1.0])| 6.95E7|340000.0|       1.477E8|172.72|  68.0388|(60,[52,57],[1.0,...|(70,[0,1,2,3,4,5,...|\n",
            "+---+-------+---------+------------------------+---------------------+-------+--------+--------------+------+---------+--------------------+--------------------+\n",
            "\n"
          ]
        }
      ]
    },
    {
      "cell_type": "code",
      "source": [
        "# List of best cluster\n",
        "best_clusters = [2, 3, 4, 5, 6]\n",
        "dataset_assembled_withClusters = dataset_assembled.select('*')\n",
        "dataset_assembled_withClusters.show(5)\n",
        "\n",
        "for k in best_clusters:\n",
        "    # Initialize KMeans\n",
        "    kmeans = KMeans().setK(k).setSeed(1234)\n",
        "    model = kmeans.fit(dataset_assembled_withClusters)\n",
        "\n",
        "    # Transform the dataset to include cluster labels\n",
        "    predictions = model.transform(dataset_assembled_withClusters)\n",
        "\n",
        "    # Add cluster labels as a new column\n",
        "    cluster_col_name = f\"cluster_{k}\"\n",
        "    dataset_assembled_withClusters = predictions.withColumnRenamed(\"prediction\", cluster_col_name)\n"
      ],
      "metadata": {
        "colab": {
          "base_uri": "https://localhost:8080/"
        },
        "id": "BNL-laBbWSrg",
        "outputId": "058ffb27-a700-4c63-d9c2-41ae622217d4"
      },
      "execution_count": 38,
      "outputs": [
        {
          "output_type": "stream",
          "name": "stdout",
          "text": [
            "+---+-------+---------+------------------------+---------------------+-------+--------+--------------+------+---------+--------------------+--------------------+\n",
            "|Age|Overall|Potential|International Reputation|Preferred Foot Vector|  Value|    Wage|Release Clause|Height|   Weight|         Club_Hashed|            features|\n",
            "+---+-------+---------+------------------------+---------------------+-------+--------+--------------+------+---------+--------------------+--------------------+\n",
            "| 31|     94|       94|                       5|            (1,[],[])|1.105E8|565000.0|       2.265E8|170.18|72.121124|(60,[52,57],[1.0,...|(70,[0,1,2,3,5,6,...|\n",
            "| 33|     94|       94|                       5|        (1,[0],[1.0])|  7.7E7|405000.0|       1.271E8|187.96| 83.00734|     (60,[16],[1.0])|(70,[0,1,2,3,4,5,...|\n",
            "| 26|     92|       93|                       5|        (1,[0],[1.0])|1.185E8|290000.0|       2.281E8|175.26|  68.0388|(60,[6,19],[1.0,1...|(70,[0,1,2,3,4,5,...|\n",
            "| 27|     91|       93|                       4|        (1,[0],[1.0])|  7.2E7|260000.0|       1.386E8|193.04| 76.20345|(60,[3,17],[1.0,1...|(70,[0,1,2,3,4,5,...|\n",
            "| 27|     91|       92|                       4|        (1,[0],[1.0])| 1.02E8|355000.0|       1.964E8|180.34|69.853165|(60,[17,55],[1.0,...|(70,[0,1,2,3,4,5,...|\n",
            "+---+-------+---------+------------------------+---------------------+-------+--------+--------------+------+---------+--------------------+--------------------+\n",
            "only showing top 5 rows\n",
            "\n"
          ]
        }
      ]
    },
    {
      "cell_type": "code",
      "source": [
        "top_players = dataset_assembled_withClusters.orderBy(col(\"Wage\").desc()).limit(10)\n",
        "top_players.show()"
      ],
      "metadata": {
        "colab": {
          "base_uri": "https://localhost:8080/"
        },
        "id": "jHe8s9JOZH7m",
        "outputId": "bfa608d4-78bc-457d-c418-b60ca35e5b35"
      },
      "execution_count": 39,
      "outputs": [
        {
          "output_type": "stream",
          "name": "stdout",
          "text": [
            "+---+-------+---------+------------------------+---------------------+-------+--------+--------------+------+---------+--------------------+--------------------+---------+---------+---------+---------+---------+\n",
            "|Age|Overall|Potential|International Reputation|Preferred Foot Vector|  Value|    Wage|Release Clause|Height|   Weight|         Club_Hashed|            features|cluster_2|cluster_3|cluster_4|cluster_5|cluster_6|\n",
            "+---+-------+---------+------------------------+---------------------+-------+--------+--------------+------+---------+--------------------+--------------------+---------+---------+---------+---------+---------+\n",
            "| 31|     94|       94|                       5|            (1,[],[])|1.105E8|565000.0|       2.265E8|170.18|72.121124|(60,[52,57],[1.0,...|(70,[0,1,2,3,5,6,...|        1|        2|        2|        4|        1|\n",
            "| 31|     91|       91|                       5|        (1,[0],[1.0])|  8.0E7|455000.0|        1.64E8|182.88| 86.18248|(60,[52,57],[1.0,...|(70,[0,1,2,3,4,5,...|        1|        2|        2|        4|        1|\n",
            "| 32|     91|       91|                       4|        (1,[0],[1.0])|  6.7E7|420000.0|       1.374E8|172.72|66.224434|(60,[37,51],[1.0,...|(70,[0,1,2,3,4,5,...|        1|        2|        2|        4|        1|\n",
            "| 33|     94|       94|                       5|        (1,[0],[1.0])|  7.7E7|405000.0|       1.271E8|187.96| 83.00734|     (60,[16],[1.0])|(70,[0,1,2,3,4,5,...|        1|        2|        2|        4|        1|\n",
            "| 32|     91|       91|                       4|        (1,[0],[1.0])|  5.1E7|380000.0|       1.046E8|182.88| 82.10015|(60,[37,51],[1.0,...|(70,[0,1,2,3,4,5,...|        1|        2|        2|        1|        1|\n",
            "| 27|     91|       92|                       4|        (1,[0],[1.0])| 1.02E8|355000.0|       1.964E8|180.34|69.853165|(60,[17,55],[1.0,...|(70,[0,1,2,3,4,5,...|        1|        2|        2|        4|        1|\n",
            "| 28|     90|       90|                       4|        (1,[0],[1.0])| 7.65E7|355000.0|       1.568E8|182.88| 76.20345|(60,[37,51],[1.0,...|(70,[0,1,2,3,4,5,...|        1|        2|        2|        4|        1|\n",
            "| 28|     88|       88|                       4|            (1,[],[])|  6.0E7|355000.0|        1.23E8|185.42| 82.10015|(60,[37,51],[1.0,...|(70,[0,1,2,3,5,6,...|        1|        2|        2|        4|        1|\n",
            "| 27|     91|       91|                       4|        (1,[0],[1.0])|  9.3E7|340000.0|       1.721E8|172.72| 73.93549|     (60,[53],[1.0])|(70,[0,1,2,3,4,5,...|        1|        2|        2|        4|        1|\n",
            "| 26|     88|       89|                       3|        (1,[0],[1.0])| 6.95E7|340000.0|       1.477E8|172.72|  68.0388|(60,[52,57],[1.0,...|(70,[0,1,2,3,4,5,...|        1|        2|        2|        4|        1|\n",
            "+---+-------+---------+------------------------+---------------------+-------+--------+--------------+------+---------+--------------------+--------------------+---------+---------+---------+---------+---------+\n",
            "\n"
          ]
        }
      ]
    },
    {
      "cell_type": "code",
      "source": [
        "top_players.groupBy(\"cluster_2\").count().show()\n",
        "top_players.groupBy(\"cluster_3\").count().show()\n",
        "top_players.groupBy(\"cluster_4\").count().show()\n",
        "top_players.groupBy(\"cluster_5\").count().show()\n",
        "top_players.groupBy(\"cluster_6\").count().show()"
      ],
      "metadata": {
        "colab": {
          "base_uri": "https://localhost:8080/"
        },
        "id": "MrKGDmxSRUsc",
        "outputId": "81b32b9e-4cde-4a6d-d2e4-8897d1d0b5c5"
      },
      "execution_count": 40,
      "outputs": [
        {
          "output_type": "stream",
          "name": "stdout",
          "text": [
            "+---------+-----+\n",
            "|cluster_2|count|\n",
            "+---------+-----+\n",
            "|        1|   10|\n",
            "+---------+-----+\n",
            "\n",
            "+---------+-----+\n",
            "|cluster_3|count|\n",
            "+---------+-----+\n",
            "|        2|   10|\n",
            "+---------+-----+\n",
            "\n",
            "+---------+-----+\n",
            "|cluster_4|count|\n",
            "+---------+-----+\n",
            "|        2|   10|\n",
            "+---------+-----+\n",
            "\n",
            "+---------+-----+\n",
            "|cluster_5|count|\n",
            "+---------+-----+\n",
            "|        4|    9|\n",
            "|        1|    1|\n",
            "+---------+-----+\n",
            "\n",
            "+---------+-----+\n",
            "|cluster_6|count|\n",
            "+---------+-----+\n",
            "|        1|   10|\n",
            "+---------+-----+\n",
            "\n"
          ]
        }
      ]
    },
    {
      "cell_type": "markdown",
      "source": [
        "# PCA - reducing dimentions"
      ],
      "metadata": {
        "id": "DdI6lrOXel-S"
      }
    },
    {
      "cell_type": "code",
      "source": [
        "dataset_assembled_withClusters.show()"
      ],
      "metadata": {
        "colab": {
          "base_uri": "https://localhost:8080/"
        },
        "id": "VYUI6dauiIGC",
        "outputId": "2998ad9c-19fb-473e-f7e3-2a372d4cb596"
      },
      "execution_count": 41,
      "outputs": [
        {
          "output_type": "stream",
          "name": "stdout",
          "text": [
            "+---+-------+---------+------------------------+---------------------+-------+--------+--------------+------+---------+--------------------+--------------------+---------+---------+---------+---------+---------+\n",
            "|Age|Overall|Potential|International Reputation|Preferred Foot Vector|  Value|    Wage|Release Clause|Height|   Weight|         Club_Hashed|            features|cluster_2|cluster_3|cluster_4|cluster_5|cluster_6|\n",
            "+---+-------+---------+------------------------+---------------------+-------+--------+--------------+------+---------+--------------------+--------------------+---------+---------+---------+---------+---------+\n",
            "| 31|     94|       94|                       5|            (1,[],[])|1.105E8|565000.0|       2.265E8|170.18|72.121124|(60,[52,57],[1.0,...|(70,[0,1,2,3,5,6,...|        1|        2|        2|        4|        1|\n",
            "| 33|     94|       94|                       5|        (1,[0],[1.0])|  7.7E7|405000.0|       1.271E8|187.96| 83.00734|     (60,[16],[1.0])|(70,[0,1,2,3,4,5,...|        1|        2|        2|        4|        1|\n",
            "| 26|     92|       93|                       5|        (1,[0],[1.0])|1.185E8|290000.0|       2.281E8|175.26|  68.0388|(60,[6,19],[1.0,1...|(70,[0,1,2,3,4,5,...|        1|        2|        2|        4|        1|\n",
            "| 27|     91|       93|                       4|        (1,[0],[1.0])|  7.2E7|260000.0|       1.386E8|193.04| 76.20345|(60,[3,17],[1.0,1...|(70,[0,1,2,3,4,5,...|        1|        2|        2|        4|        1|\n",
            "| 27|     91|       92|                       4|        (1,[0],[1.0])| 1.02E8|355000.0|       1.964E8|180.34|69.853165|(60,[17,55],[1.0,...|(70,[0,1,2,3,4,5,...|        1|        2|        2|        4|        1|\n",
            "| 27|     91|       91|                       4|        (1,[0],[1.0])|  9.3E7|340000.0|       1.721E8|172.72| 73.93549|     (60,[53],[1.0])|(70,[0,1,2,3,4,5,...|        1|        2|        2|        4|        1|\n",
            "| 32|     91|       91|                       4|        (1,[0],[1.0])|  6.7E7|420000.0|       1.374E8|172.72|66.224434|(60,[37,51],[1.0,...|(70,[0,1,2,3,4,5,...|        1|        2|        2|        4|        1|\n",
            "| 31|     91|       91|                       5|        (1,[0],[1.0])|  8.0E7|455000.0|        1.64E8|182.88| 86.18248|(60,[52,57],[1.0,...|(70,[0,1,2,3,4,5,...|        1|        2|        2|        4|        1|\n",
            "| 32|     91|       91|                       4|        (1,[0],[1.0])|  5.1E7|380000.0|       1.046E8|182.88| 82.10015|(60,[37,51],[1.0,...|(70,[0,1,2,3,4,5,...|        1|        2|        2|        1|        1|\n",
            "| 25|     90|       93|                       3|        (1,[0],[1.0])|  6.8E7| 94000.0|       1.445E8|187.96| 87.08966|(60,[31,37],[1.0,...|(70,[0,1,2,3,4,5,...|        1|        2|        2|        4|        1|\n",
            "| 29|     90|       90|                       4|        (1,[0],[1.0])|  7.7E7|205000.0|       1.271E8|182.88| 79.83219|(60,[4,47,52],[1....|(70,[0,1,2,3,4,5,...|        1|        2|        2|        4|        1|\n",
            "| 28|     90|       90|                       4|        (1,[0],[1.0])| 7.65E7|355000.0|       1.568E8|182.88| 76.20345|(60,[37,51],[1.0,...|(70,[0,1,2,3,4,5,...|        1|        2|        2|        4|        1|\n",
            "| 32|     90|       90|                       3|        (1,[0],[1.0])|  4.4E7|125000.0|        9.02E7|187.96| 78.01782|(60,[31,37],[1.0,...|(70,[0,1,2,3,4,5,...|        1|        2|        1|        1|        2|\n",
            "| 32|     90|       90|                       4|            (1,[],[])|  6.0E7|285000.0|        1.11E8|172.72|67.131615|(60,[17,55],[1.0,...|(70,[0,1,2,3,5,6,...|        1|        2|        2|        4|        1|\n",
            "| 27|     89|       90|                       3|        (1,[0],[1.0])|  6.3E7|225000.0|       1.213E8|167.64|72.121124|     (60,[53],[1.0])|(70,[0,1,2,3,4,5,...|        1|        2|        2|        4|        1|\n",
            "| 24|     89|       94|                       3|            (1,[],[])|  8.9E7|205000.0|       1.535E8| 177.8| 74.84268|     (60,[16],[1.0])|(70,[0,1,2,3,5,6,...|        1|        2|        2|        4|        1|\n",
            "| 24|     89|       91|                       3|        (1,[0],[1.0])| 8.35E7|205000.0|       1.607E8|187.96| 88.90403|(60,[10,15],[1.0,...|(70,[0,1,2,3,4,5,...|        1|        2|        2|        4|        1|\n",
            "| 27|     89|       90|                       4|            (1,[],[])|  7.8E7|145000.0|       1.658E8|175.26| 73.02831|(60,[31,37],[1.0,...|(70,[0,1,2,3,5,6,...|        1|        2|        2|        4|        1|\n",
            "| 26|     89|       92|                       3|        (1,[0],[1.0])|  5.8E7|240000.0|       1.233E8|187.96|  84.8217|(60,[52,57],[1.0,...|(70,[0,1,2,3,4,5,...|        1|        2|        2|        4|        1|\n",
            "| 26|     89|       90|                       4|            (1,[],[])| 5.35E7|240000.0|       1.137E8|198.12| 96.16151|(60,[37,51],[1.0,...|(70,[0,1,2,3,5,6,...|        1|        2|        2|        4|        1|\n",
            "+---+-------+---------+------------------------+---------------------+-------+--------+--------------+------+---------+--------------------+--------------------+---------+---------+---------+---------+---------+\n",
            "only showing top 20 rows\n",
            "\n"
          ]
        }
      ]
    },
    {
      "cell_type": "code",
      "source": [
        "from pyspark.ml.feature import PCA # 10 -> 5\n",
        "\n",
        "pca = PCA(k=5, inputCol=\"features\", outputCol=\"pcaFeatures\")\n",
        "\n",
        "# Fit PCA model to the data\n",
        "model = pca.fit(dataset_assembled)\n",
        "\n",
        "# Transform the data according to the PCA model\n",
        "result = model.transform(dataset_assembled)\n",
        "\n",
        "# Show the resulting features\n",
        "#result.select(\"pcaFeatures\").show(truncate=False)\n",
        "print(\"Explained Variance (5 components):\", model.explainedVariance)\n",
        "result.show(5)"
      ],
      "metadata": {
        "colab": {
          "base_uri": "https://localhost:8080/"
        },
        "id": "oqXMu7laeksK",
        "outputId": "81f1f81d-3767-43b1-8466-b39ea25e312e"
      },
      "execution_count": 42,
      "outputs": [
        {
          "output_type": "stream",
          "name": "stdout",
          "text": [
            "Explained Variance (5 components): [0.9910276897496547,0.00897142988553157,8.803636378071059e-07,5.804049012335315e-13,2.758173473363698e-13]\n",
            "+---+-------+---------+------------------------+---------------------+-------+--------+--------------+------+---------+--------------------+--------------------+--------------------+\n",
            "|Age|Overall|Potential|International Reputation|Preferred Foot Vector|  Value|    Wage|Release Clause|Height|   Weight|         Club_Hashed|            features|         pcaFeatures|\n",
            "+---+-------+---------+------------------------+---------------------+-------+--------+--------------+------+---------+--------------------+--------------------+--------------------+\n",
            "| 31|     94|       94|                       5|            (1,[],[])|1.105E8|565000.0|       2.265E8|170.18|72.121124|(60,[52,57],[1.0,...|(70,[0,1,2,3,5,6,...|[-2.5194677647485...|\n",
            "| 33|     94|       94|                       5|        (1,[0],[1.0])|  7.7E7|405000.0|       1.271E8|187.96| 83.00734|     (60,[16],[1.0])|(70,[0,1,2,3,4,5,...|[-1.4827070090967...|\n",
            "| 26|     92|       93|                       5|        (1,[0],[1.0])|1.185E8|290000.0|       2.281E8|175.26|  68.0388|(60,[6,19],[1.0,1...|(70,[0,1,2,3,4,5,...|[-2.5704429789014...|\n",
            "| 27|     91|       93|                       4|        (1,[0],[1.0])|  7.2E7|260000.0|       1.386E8|193.04| 76.20345|(60,[3,17],[1.0,1...|(70,[0,1,2,3,4,5,...|[-1.5618568830205...|\n",
            "| 27|     91|       92|                       4|        (1,[0],[1.0])| 1.02E8|355000.0|       1.964E8|180.34|69.853165|(60,[17,55],[1.0,...|(70,[0,1,2,3,4,5,...|[-2.2130744357438...|\n",
            "+---+-------+---------+------------------------+---------------------+-------+--------+--------------+------+---------+--------------------+--------------------+--------------------+\n",
            "only showing top 5 rows\n",
            "\n"
          ]
        }
      ]
    },
    {
      "cell_type": "code",
      "source": [
        "result = result.drop('features')\n",
        "result.show(5)"
      ],
      "metadata": {
        "colab": {
          "base_uri": "https://localhost:8080/"
        },
        "id": "RzfHQIDiFurx",
        "outputId": "c9940f71-d800-4317-9d28-9a6a457d8c22"
      },
      "execution_count": 45,
      "outputs": [
        {
          "output_type": "stream",
          "name": "stdout",
          "text": [
            "+---+-------+---------+------------------------+---------------------+-------+--------+--------------+------+---------+--------------------+--------------------+\n",
            "|Age|Overall|Potential|International Reputation|Preferred Foot Vector|  Value|    Wage|Release Clause|Height|   Weight|         Club_Hashed|         pcaFeatures|\n",
            "+---+-------+---------+------------------------+---------------------+-------+--------+--------------+------+---------+--------------------+--------------------+\n",
            "| 31|     94|       94|                       5|            (1,[],[])|1.105E8|565000.0|       2.265E8|170.18|72.121124|(60,[52,57],[1.0,...|[-2.5194677647485...|\n",
            "| 33|     94|       94|                       5|        (1,[0],[1.0])|  7.7E7|405000.0|       1.271E8|187.96| 83.00734|     (60,[16],[1.0])|[-1.4827070090967...|\n",
            "| 26|     92|       93|                       5|        (1,[0],[1.0])|1.185E8|290000.0|       2.281E8|175.26|  68.0388|(60,[6,19],[1.0,1...|[-2.5704429789014...|\n",
            "| 27|     91|       93|                       4|        (1,[0],[1.0])|  7.2E7|260000.0|       1.386E8|193.04| 76.20345|(60,[3,17],[1.0,1...|[-1.5618568830205...|\n",
            "| 27|     91|       92|                       4|        (1,[0],[1.0])| 1.02E8|355000.0|       1.964E8|180.34|69.853165|(60,[17,55],[1.0,...|[-2.2130744357438...|\n",
            "+---+-------+---------+------------------------+---------------------+-------+--------+--------------+------+---------+--------------------+--------------------+\n",
            "only showing top 5 rows\n",
            "\n"
          ]
        }
      ]
    },
    {
      "cell_type": "code",
      "source": [
        "assembler = VectorAssembler(inputCols=['pcaFeatures'], outputCol=\"features\",handleInvalid=\"skip\")\n",
        "# Transform the data to have the features column\n",
        "pca_dataset = assembler.transform(result)\n",
        "pca_dataset.show(5)\n",
        "pca_dataset.cache()  # Cache the DataFrame\n",
        "pca_dataset.count()"
      ],
      "metadata": {
        "colab": {
          "base_uri": "https://localhost:8080/"
        },
        "id": "hX78n733llk0",
        "outputId": "9d28b1c8-e2f3-4854-c9f8-f82733a1dad3"
      },
      "execution_count": 46,
      "outputs": [
        {
          "output_type": "stream",
          "name": "stdout",
          "text": [
            "+---+-------+---------+------------------------+---------------------+-------+--------+--------------+------+---------+--------------------+--------------------+--------------------+\n",
            "|Age|Overall|Potential|International Reputation|Preferred Foot Vector|  Value|    Wage|Release Clause|Height|   Weight|         Club_Hashed|         pcaFeatures|            features|\n",
            "+---+-------+---------+------------------------+---------------------+-------+--------+--------------+------+---------+--------------------+--------------------+--------------------+\n",
            "| 31|     94|       94|                       5|            (1,[],[])|1.105E8|565000.0|       2.265E8|170.18|72.121124|(60,[52,57],[1.0,...|[-2.5194677647485...|[-2.5194677647485...|\n",
            "| 33|     94|       94|                       5|        (1,[0],[1.0])|  7.7E7|405000.0|       1.271E8|187.96| 83.00734|     (60,[16],[1.0])|[-1.4827070090967...|[-1.4827070090967...|\n",
            "| 26|     92|       93|                       5|        (1,[0],[1.0])|1.185E8|290000.0|       2.281E8|175.26|  68.0388|(60,[6,19],[1.0,1...|[-2.5704429789014...|[-2.5704429789014...|\n",
            "| 27|     91|       93|                       4|        (1,[0],[1.0])|  7.2E7|260000.0|       1.386E8|193.04| 76.20345|(60,[3,17],[1.0,1...|[-1.5618568830205...|[-1.5618568830205...|\n",
            "| 27|     91|       92|                       4|        (1,[0],[1.0])| 1.02E8|355000.0|       1.964E8|180.34|69.853165|(60,[17,55],[1.0,...|[-2.2130744357438...|[-2.2130744357438...|\n",
            "+---+-------+---------+------------------------+---------------------+-------+--------+--------------+------+---------+--------------------+--------------------+--------------------+\n",
            "only showing top 5 rows\n",
            "\n"
          ]
        },
        {
          "output_type": "execute_result",
          "data": {
            "text/plain": [
              "17918"
            ]
          },
          "metadata": {},
          "execution_count": 46
        }
      ]
    },
    {
      "cell_type": "markdown",
      "source": [
        "Checking the quality of KMeans cluster if used with PCA encoded features as input"
      ],
      "metadata": {
        "id": "24TCVvbiG10g"
      }
    },
    {
      "cell_type": "code",
      "source": [
        "score = []\n",
        "amount = []\n",
        "\n",
        "clusteringData(pca_dataset,score,amount)"
      ],
      "metadata": {
        "colab": {
          "base_uri": "https://localhost:8080/"
        },
        "id": "mRlZMjehkKAF",
        "outputId": "85a6ebc0-0462-4234-c102-b208447e6e9b"
      },
      "execution_count": 47,
      "outputs": [
        {
          "output_type": "stream",
          "name": "stdout",
          "text": [
            "2  Silhouette with squared euclidean distance = 0.9639989123280216\n",
            "3  Silhouette with squared euclidean distance = 0.916961319310875\n",
            "4  Silhouette with squared euclidean distance = 0.9081343300293355\n",
            "5  Silhouette with squared euclidean distance = 0.8966782743455604\n",
            "6  Silhouette with squared euclidean distance = 0.8612658669068903\n",
            "7  Silhouette with squared euclidean distance = 0.7970022454763978\n",
            "8  Silhouette with squared euclidean distance = 0.8021856404034406\n",
            "9  Silhouette with squared euclidean distance = 0.8068492391892229\n",
            "10  Silhouette with squared euclidean distance = 0.8100583334006121\n",
            "11  Silhouette with squared euclidean distance = 0.8012268685403994\n",
            "12  Silhouette with squared euclidean distance = 0.8057518644447899\n",
            "13  Silhouette with squared euclidean distance = 0.8054154866954285\n",
            "14  Silhouette with squared euclidean distance = 0.8022990107566443\n",
            "15  Silhouette with squared euclidean distance = 0.8099809934283096\n",
            "16  Silhouette with squared euclidean distance = 0.7836539285995823\n",
            "17  Silhouette with squared euclidean distance = 0.7093767110965916\n",
            "18  Silhouette with squared euclidean distance = 0.7870688397195659\n",
            "19  Silhouette with squared euclidean distance = 0.7857143138477071\n",
            "20  Silhouette with squared euclidean distance = 0.7169382732798885\n",
            "21  Silhouette with squared euclidean distance = 0.703645115024626\n",
            "22  Silhouette with squared euclidean distance = 0.7128916259518285\n",
            "23  Silhouette with squared euclidean distance = 0.6789628474242383\n",
            "24  Silhouette with squared euclidean distance = 0.6790275825268713\n",
            "25  Silhouette with squared euclidean distance = 0.6777702394493031\n",
            "26  Silhouette with squared euclidean distance = 0.7103416463745472\n",
            "27  Silhouette with squared euclidean distance = 0.692438663490652\n",
            "28  Silhouette with squared euclidean distance = 0.698773672847299\n",
            "29  Silhouette with squared euclidean distance = 0.7002536321860969\n"
          ]
        }
      ]
    },
    {
      "cell_type": "code",
      "source": [
        "plot_silhouette(score, amount)\n"
      ],
      "metadata": {
        "colab": {
          "base_uri": "https://localhost:8080/",
          "height": 564
        },
        "id": "g2J2YERDkyQc",
        "outputId": "14068a2b-8fcf-4643-c8f8-ff68eae750e6"
      },
      "execution_count": 48,
      "outputs": [
        {
          "output_type": "display_data",
          "data": {
            "text/plain": [
              "<Figure size 1000x600 with 1 Axes>"
            ],
            "image/png": "[encoded data removed]"
          },
          "metadata": {}
        }
      ]
    },
    {
      "cell_type": "markdown",
      "source": [
        "# PCA with 2 features\n",
        " While using the PCA features that were incoded for 5 dimensions, inorder to reduce the data to 2 features."
      ],
      "metadata": {
        "id": "1t8fuM2xo8AY"
      }
    },
    {
      "cell_type": "code",
      "source": [
        "pca = PCA(k=2, inputCol=\"pcaFeatures\", outputCol=\"pcaFeatures_2\")\n",
        "\n",
        "# Fit PCA model to the data\n",
        "model = pca.fit(result)\n",
        "\n",
        "# Transform the data according to the PCA model\n",
        "result = model.transform(result)\n",
        "\n",
        "# Show the resulting features\n",
        "#result.select(\"pcaFeatures\").show(truncate=False)\n",
        "print(\"Explained Variance (2 components):\", model.explainedVariance)\n",
        "result.show(5)"
      ],
      "metadata": {
        "colab": {
          "base_uri": "https://localhost:8080/"
        },
        "id": "bB-UXD_To-3y",
        "outputId": "fc075401-faad-4d04-b714-f0c567b99be7"
      },
      "execution_count": 49,
      "outputs": [
        {
          "output_type": "stream",
          "name": "stdout",
          "text": [
            "Explained Variance (2 components): [0.991027689749883,0.008971429885623054]\n",
            "+---+-------+---------+------------------------+---------------------+-------+--------+--------------+------+---------+--------------------+--------------------+--------------------+\n",
            "|Age|Overall|Potential|International Reputation|Preferred Foot Vector|  Value|    Wage|Release Clause|Height|   Weight|         Club_Hashed|         pcaFeatures|       pcaFeatures_2|\n",
            "+---+-------+---------+------------------------+---------------------+-------+--------+--------------+------+---------+--------------------+--------------------+--------------------+\n",
            "| 31|     94|       94|                       5|            (1,[],[])|1.105E8|565000.0|       2.265E8|170.18|72.121124|(60,[52,57],[1.0,...|[-2.5194677647485...|[2.51946776474856...|\n",
            "| 33|     94|       94|                       5|        (1,[0],[1.0])|  7.7E7|405000.0|       1.271E8|187.96| 83.00734|     (60,[16],[1.0])|[-1.4827070090967...|[1.48270700909671...|\n",
            "| 26|     92|       93|                       5|        (1,[0],[1.0])|1.185E8|290000.0|       2.281E8|175.26|  68.0388|(60,[6,19],[1.0,1...|[-2.5704429789014...|[2.57044297890149...|\n",
            "| 27|     91|       93|                       4|        (1,[0],[1.0])|  7.2E7|260000.0|       1.386E8|193.04| 76.20345|(60,[3,17],[1.0,1...|[-1.5618568830205...|[1.56185688302054...|\n",
            "| 27|     91|       92|                       4|        (1,[0],[1.0])| 1.02E8|355000.0|       1.964E8|180.34|69.853165|(60,[17,55],[1.0,...|[-2.2130744357438...|[2.21307443574382...|\n",
            "+---+-------+---------+------------------------+---------------------+-------+--------+--------------+------+---------+--------------------+--------------------+--------------------+\n",
            "only showing top 5 rows\n",
            "\n"
          ]
        }
      ]
    },
    {
      "cell_type": "code",
      "source": [
        "assembler = VectorAssembler(inputCols=['pcaFeatures_2'], outputCol=\"features\",handleInvalid=\"skip\")\n",
        "# Transform the data to have the features column\n",
        "pca_dataset = assembler.transform(result)\n",
        "pca_dataset.show(5)\n",
        "pca_dataset.cache()  # Cache the DataFrame\n",
        "pca_dataset.count()"
      ],
      "metadata": {
        "colab": {
          "base_uri": "https://localhost:8080/"
        },
        "id": "yMvtWqucq6ri",
        "outputId": "9eda5bcf-4ad4-41e8-d070-7dd593cffd2b"
      },
      "execution_count": 50,
      "outputs": [
        {
          "output_type": "stream",
          "name": "stdout",
          "text": [
            "+---+-------+---------+------------------------+---------------------+-------+--------+--------------+------+---------+--------------------+--------------------+--------------------+--------------------+\n",
            "|Age|Overall|Potential|International Reputation|Preferred Foot Vector|  Value|    Wage|Release Clause|Height|   Weight|         Club_Hashed|         pcaFeatures|       pcaFeatures_2|            features|\n",
            "+---+-------+---------+------------------------+---------------------+-------+--------+--------------+------+---------+--------------------+--------------------+--------------------+--------------------+\n",
            "| 31|     94|       94|                       5|            (1,[],[])|1.105E8|565000.0|       2.265E8|170.18|72.121124|(60,[52,57],[1.0,...|[-2.5194677647485...|[2.51946776474856...|[2.51946776474856...|\n",
            "| 33|     94|       94|                       5|        (1,[0],[1.0])|  7.7E7|405000.0|       1.271E8|187.96| 83.00734|     (60,[16],[1.0])|[-1.4827070090967...|[1.48270700909671...|[1.48270700909671...|\n",
            "| 26|     92|       93|                       5|        (1,[0],[1.0])|1.185E8|290000.0|       2.281E8|175.26|  68.0388|(60,[6,19],[1.0,1...|[-2.5704429789014...|[2.57044297890149...|[2.57044297890149...|\n",
            "| 27|     91|       93|                       4|        (1,[0],[1.0])|  7.2E7|260000.0|       1.386E8|193.04| 76.20345|(60,[3,17],[1.0,1...|[-1.5618568830205...|[1.56185688302054...|[1.56185688302054...|\n",
            "| 27|     91|       92|                       4|        (1,[0],[1.0])| 1.02E8|355000.0|       1.964E8|180.34|69.853165|(60,[17,55],[1.0,...|[-2.2130744357438...|[2.21307443574382...|[2.21307443574382...|\n",
            "+---+-------+---------+------------------------+---------------------+-------+--------+--------------+------+---------+--------------------+--------------------+--------------------+--------------------+\n",
            "only showing top 5 rows\n",
            "\n"
          ]
        },
        {
          "output_type": "execute_result",
          "data": {
            "text/plain": [
              "17918"
            ]
          },
          "metadata": {},
          "execution_count": 50
        }
      ]
    },
    {
      "cell_type": "code",
      "source": [
        "score = []\n",
        "amount = []\n",
        "clusteringData(pca_dataset,score,amount)"
      ],
      "metadata": {
        "colab": {
          "base_uri": "https://localhost:8080/"
        },
        "id": "qRfS65RArb56",
        "outputId": "68392cf4-3c6a-4e40-b536-bdead7842775"
      },
      "execution_count": 51,
      "outputs": [
        {
          "output_type": "stream",
          "name": "stdout",
          "text": [
            "2  Silhouette with squared euclidean distance = 0.9639989527338202\n",
            "3  Silhouette with squared euclidean distance = 0.9169615374564769\n",
            "4  Silhouette with squared euclidean distance = 0.9081346952735504\n",
            "5  Silhouette with squared euclidean distance = 0.8966787732512519\n",
            "6  Silhouette with squared euclidean distance = 0.8612666596595405\n",
            "7  Silhouette with squared euclidean distance = 0.7970041263303365\n",
            "8  Silhouette with squared euclidean distance = 0.8021882615001242\n",
            "9  Silhouette with squared euclidean distance = 0.8068513454025008\n",
            "10  Silhouette with squared euclidean distance = 0.8053266074681564\n",
            "11  Silhouette with squared euclidean distance = 0.8012305693683072\n",
            "12  Silhouette with squared euclidean distance = 0.8057554847882265\n",
            "13  Silhouette with squared euclidean distance = 0.8054189274803214\n",
            "14  Silhouette with squared euclidean distance = 0.8023030923618415\n",
            "15  Silhouette with squared euclidean distance = 0.8099851927522184\n",
            "16  Silhouette with squared euclidean distance = 0.7836592859342452\n",
            "17  Silhouette with squared euclidean distance = 0.7093763365115024\n",
            "18  Silhouette with squared euclidean distance = 0.7856946636067842\n",
            "19  Silhouette with squared euclidean distance = 0.7868786537935079\n",
            "20  Silhouette with squared euclidean distance = 0.7169473102320464\n",
            "21  Silhouette with squared euclidean distance = 0.7588411731664227\n",
            "22  Silhouette with squared euclidean distance = 0.7152201490277623\n",
            "23  Silhouette with squared euclidean distance = 0.6789765312080702\n",
            "24  Silhouette with squared euclidean distance = 0.6790412653206503\n",
            "25  Silhouette with squared euclidean distance = 0.677784268691778\n",
            "26  Silhouette with squared euclidean distance = 0.7103524079026149\n",
            "27  Silhouette with squared euclidean distance = 0.6925734039192436\n",
            "28  Silhouette with squared euclidean distance = 0.6994796474479816\n",
            "29  Silhouette with squared euclidean distance = 0.6985290215820379\n"
          ]
        }
      ]
    },
    {
      "cell_type": "code",
      "source": [
        "plot_silhouette(score, amount)"
      ],
      "metadata": {
        "colab": {
          "base_uri": "https://localhost:8080/",
          "height": 564
        },
        "id": "y_gIZgA4rifS",
        "outputId": "0691bcc2-17f9-4f2c-9469-2940743c7eff"
      },
      "execution_count": 52,
      "outputs": [
        {
          "output_type": "display_data",
          "data": {
            "text/plain": [
              "<Figure size 1000x600 with 1 Axes>"
            ],
            "image/png": "[encoded data removed]"
          },
          "metadata": {}
        }
      ]
    },
    {
      "cell_type": "code",
      "source": [
        "kmeans = KMeans().setK(5).setSeed(1234)\n",
        "model = kmeans.fit(pca_dataset)\n",
        "\n",
        "# Transform the dataset to include cluster labels\n",
        "predictions = model.transform(pca_dataset)\n",
        "\n",
        "# Add cluster labels as a new column\n",
        "cluster_col_name = f\"cluster_{5}\"\n",
        "dataset_assembled2 = predictions.withColumnRenamed(\"prediction\", cluster_col_name)"
      ],
      "metadata": {
        "id": "XeZOzqmOskFT"
      },
      "execution_count": 53,
      "outputs": []
    },
    {
      "cell_type": "code",
      "source": [
        "dataset_assembled2.show()"
      ],
      "metadata": {
        "colab": {
          "base_uri": "https://localhost:8080/"
        },
        "id": "xfSduT0gs3l4",
        "outputId": "a54eb601-2e44-4c65-eba9-65ea26595dbd"
      },
      "execution_count": 54,
      "outputs": [
        {
          "output_type": "stream",
          "name": "stdout",
          "text": [
            "+---+-------+---------+------------------------+---------------------+-------+--------+--------------+------+---------+--------------------+--------------------+--------------------+--------------------+---------+\n",
            "|Age|Overall|Potential|International Reputation|Preferred Foot Vector|  Value|    Wage|Release Clause|Height|   Weight|         Club_Hashed|         pcaFeatures|       pcaFeatures_2|            features|cluster_5|\n",
            "+---+-------+---------+------------------------+---------------------+-------+--------+--------------+------+---------+--------------------+--------------------+--------------------+--------------------+---------+\n",
            "| 31|     94|       94|                       5|            (1,[],[])|1.105E8|565000.0|       2.265E8|170.18|72.121124|(60,[52,57],[1.0,...|[-2.5194677647485...|[2.51946776474856...|[2.51946776474856...|        4|\n",
            "| 33|     94|       94|                       5|        (1,[0],[1.0])|  7.7E7|405000.0|       1.271E8|187.96| 83.00734|     (60,[16],[1.0])|[-1.4827070090967...|[1.48270700909671...|[1.48270700909671...|        4|\n",
            "| 26|     92|       93|                       5|        (1,[0],[1.0])|1.185E8|290000.0|       2.281E8|175.26|  68.0388|(60,[6,19],[1.0,1...|[-2.5704429789014...|[2.57044297890149...|[2.57044297890149...|        4|\n",
            "| 27|     91|       93|                       4|        (1,[0],[1.0])|  7.2E7|260000.0|       1.386E8|193.04| 76.20345|(60,[3,17],[1.0,1...|[-1.5618568830205...|[1.56185688302054...|[1.56185688302054...|        4|\n",
            "| 27|     91|       92|                       4|        (1,[0],[1.0])| 1.02E8|355000.0|       1.964E8|180.34|69.853165|(60,[17,55],[1.0,...|[-2.2130744357438...|[2.21307443574382...|[2.21307443574382...|        4|\n",
            "| 27|     91|       91|                       4|        (1,[0],[1.0])|  9.3E7|340000.0|       1.721E8|172.72| 73.93549|     (60,[53],[1.0])|[-1.9558966329798...|[1.95589663297984...|[1.95589663297984...|        4|\n",
            "| 32|     91|       91|                       4|        (1,[0],[1.0])|  6.7E7|420000.0|       1.374E8|172.72|66.224434|(60,[37,51],[1.0,...|[-1.5282209627433...|[1.52822096274336...|[1.52822096274336...|        4|\n",
            "| 31|     91|       91|                       5|        (1,[0],[1.0])|  8.0E7|455000.0|        1.64E8|182.88| 86.18248|(60,[52,57],[1.0,...|[-1.8242105136890...|[1.82421051368908...|[1.82421051368908...|        4|\n",
            "| 32|     91|       91|                       4|        (1,[0],[1.0])|  5.1E7|380000.0|       1.046E8|182.88| 82.10015|(60,[37,51],[1.0,...|[-1.1633796464719...|[1.16337964647195...|[1.16337964647195...|        1|\n",
            "| 25|     90|       93|                       3|        (1,[0],[1.0])|  6.8E7| 94000.0|       1.445E8|187.96| 87.08966|(60,[31,37],[1.0,...|[-1.5958682440271...|[1.59586824402711...|[1.59586824402711...|        4|\n",
            "| 29|     90|       90|                       4|        (1,[0],[1.0])|  7.7E7|205000.0|       1.271E8|182.88| 79.83219|(60,[4,47,52],[1....|[-1.4827039249151...|[1.48270392491519...|[1.48270392491519...|        4|\n",
            "| 28|     90|       90|                       4|        (1,[0],[1.0])| 7.65E7|355000.0|       1.568E8|182.88| 76.20345|(60,[37,51],[1.0,...|[-1.7441780400583...|[1.74417804005835...|[1.74417804005835...|        4|\n",
            "| 32|     90|       90|                       3|        (1,[0],[1.0])|  4.4E7|125000.0|        9.02E7|187.96| 78.01782|(60,[31,37],[1.0,...|[-1.0033138510606...|[1.00331385106060...|[1.00331385106060...|        1|\n",
            "| 32|     90|       90|                       4|            (1,[],[])|  6.0E7|285000.0|        1.11E8|172.72|67.131615|(60,[17,55],[1.0,...|[-1.2615833193422...|[1.26158331934220...|[1.26158331934220...|        4|\n",
            "| 27|     89|       90|                       3|        (1,[0],[1.0])|  6.3E7|225000.0|       1.213E8|167.64|72.121124|     (60,[53],[1.0])|[-1.3668467626293...|[1.36684676262930...|[1.36684676262930...|        4|\n",
            "| 24|     89|       94|                       3|            (1,[],[])|  8.9E7|205000.0|       1.535E8| 177.8| 74.84268|     (60,[16],[1.0])|[-1.7723205042663...|[1.77232050426634...|[1.77232050426634...|        4|\n",
            "| 24|     89|       91|                       3|        (1,[0],[1.0])| 8.35E7|205000.0|       1.607E8|187.96| 88.90403|(60,[10,15],[1.0,...|[-1.8109856038158...|[1.81098560381581...|[1.81098560381581...|        4|\n",
            "| 27|     89|       90|                       4|            (1,[],[])|  7.8E7|145000.0|       1.658E8|175.26| 73.02831|(60,[31,37],[1.0,...|[-1.8309993808735...|[1.83099938087356...|[1.83099938087356...|        4|\n",
            "| 26|     89|       92|                       3|        (1,[0],[1.0])|  5.8E7|240000.0|       1.233E8|187.96|  84.8217|(60,[52,57],[1.0,...|[-1.3616282592535...|[1.36162825925355...|[1.36162825925355...|        4|\n",
            "| 26|     89|       90|                       4|            (1,[],[])| 5.35E7|240000.0|       1.137E8|198.12| 96.16151|(60,[37,51],[1.0,...|[-1.2556863844593...|[1.25568638445933...|[1.25568638445933...|        4|\n",
            "+---+-------+---------+------------------------+---------------------+-------+--------+--------------+------+---------+--------------------+--------------------+--------------------+--------------------+---------+\n",
            "only showing top 20 rows\n",
            "\n"
          ]
        }
      ]
    },
    {
      "cell_type": "code",
      "source": [
        "pandas_df = dataset_assembled2.select(\"features\", \"cluster_5\", \"Wage\").toPandas()"
      ],
      "metadata": {
        "id": "ToZolBM4sB6C"
      },
      "execution_count": 55,
      "outputs": []
    },
    {
      "cell_type": "code",
      "source": [
        "pandas_df['PCA1'] = pandas_df['features'].apply(lambda x: x[0])\n",
        "pandas_df['PCA2'] = pandas_df['features'].apply(lambda x: x[1])\n",
        "\n",
        "top_10_players = pandas_df.sort_values(by='Wage', ascending=False).head(10)"
      ],
      "metadata": {
        "id": "SdfmCrIVtA2b"
      },
      "execution_count": 56,
      "outputs": []
    },
    {
      "cell_type": "code",
      "source": [
        "plt.figure(figsize=(10, 8))\n",
        "for cluster in pandas_df['cluster_5'].unique():\n",
        "    # Plot each cluster\n",
        "    cluster_data = pandas_df[pandas_df['cluster_5'] == cluster]\n",
        "    plt.scatter(cluster_data['PCA1'], cluster_data['PCA2'], label=f'Cluster {cluster}')\n",
        "\n",
        "# Highlight the top 10 highest-paid players\n",
        "plt.scatter(top_10_players['PCA1'], top_10_players['PCA2'], color='red', label='Top 10 highest-paid players', edgecolors='black', s=100)\n",
        "\n",
        "plt.title('PCA of Players with Clusters and Top 10 Highest Paid Players Highlighted')\n",
        "plt.xlabel('Principal Component 1')\n",
        "plt.ylabel('Principal Component 2')\n",
        "plt.legend()\n",
        "plt.grid(True)\n",
        "plt.show()"
      ],
      "metadata": {
        "colab": {
          "base_uri": "https://localhost:8080/",
          "height": 718
        },
        "id": "TV04qD69tPSF",
        "outputId": "c047c3aa-cda6-4f0f-d13e-194d9cfdeb62"
      },
      "execution_count": 57,
      "outputs": [
        {
          "output_type": "display_data",
          "data": {
            "text/plain": [
              "<Figure size 1000x800 with 1 Axes>"
            ],
            "image/png": "[encoded data removed]"
          },
          "metadata": {}
        }
      ]
    },
    {
      "cell_type": "markdown",
      "source": [
        "5 Clusters were chosen to see the difference in clusters and that one player from highest wage can be found in diffrent cluster"
      ],
      "metadata": {
        "id": "-ItBeHj8t7w8"
      }
    }
  ]
}