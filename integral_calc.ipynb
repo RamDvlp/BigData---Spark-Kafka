{
 "cells": [
  {
   "cell_type": "code",
   "execution_count": 1,
   "id": "1d10756a",
   "metadata": {},
   "outputs": [],
   "source": [
    "\n",
    "\n",
    "# Basic definition of variables and the function f(x)"
   ]
  },
  {
   "cell_type": "code",
   "execution_count": 24,
   "id": "dc19488f",
   "metadata": {},
   "outputs": [],
   "source": [
    "import math\n",
    "import time\n",
    "\n",
    "a = 0\n",
    "b = 10\n",
    "n = 1000\n",
    "def f(x):\n",
    "    return 3*x*x + 5\n"
   ]
  },
  {
   "cell_type": "code",
   "execution_count": null,
   "id": "adc83667",
   "metadata": {},
   "outputs": [],
   "source": [
    "# creating a list of intervals by x values\n",
    "# and assigning it to an RDD"
   ]
  },
  {
   "cell_type": "code",
   "execution_count": 8,
   "id": "a3a7dd09",
   "metadata": {},
   "outputs": [],
   "source": [
    "localList = []\n",
    "interval = (b-a)/n\n",
    "for i in range(1,n,1):\n",
    "    localList.append(a+interval*i)\n",
    "ValsRDD = sc.parallelize(localList)\n",
    "#print(localList)"
   ]
  },
  {
   "cell_type": "code",
   "execution_count": null,
   "id": "5140cab1",
   "metadata": {},
   "outputs": [],
   "source": [
    "# calculating the y values of the function in each interval"
   ]
  },
  {
   "cell_type": "code",
   "execution_count": 9,
   "id": "c586a1c1",
   "metadata": {},
   "outputs": [],
   "source": [
    "calcRDD = ValsRDD.map(lambda x: f(a+x))\n",
    "#print(calcRDD.collect())"
   ]
  },
  {
   "cell_type": "code",
   "execution_count": null,
   "id": "629a7da2",
   "metadata": {},
   "outputs": [],
   "source": [
    "# the inner sigma of the integral formula"
   ]
  },
  {
   "cell_type": "code",
   "execution_count": 4,
   "id": "293ae870",
   "metadata": {},
   "outputs": [
    {
     "name": "stdout",
     "output_type": "stream",
     "text": [
      "104845.05\n"
     ]
    }
   ],
   "source": [
    "summedParts = calcRDD.reduce(lambda x, y: x+y)\n",
    "print(summedParts)"
   ]
  },
  {
   "cell_type": "code",
   "execution_count": null,
   "id": "c588fb34",
   "metadata": {},
   "outputs": [],
   "source": [
    "# finall result"
   ]
  },
  {
   "cell_type": "code",
   "execution_count": 5,
   "id": "03621ef7",
   "metadata": {},
   "outputs": [],
   "source": [
    "res = ((b-a)/n)*(f(a)/2 + summedParts + f(b)/2)"
   ]
  },
  {
   "cell_type": "code",
   "execution_count": 6,
   "id": "42e6fc77",
   "metadata": {},
   "outputs": [
    {
     "name": "stdout",
     "output_type": "stream",
     "text": [
      "1050.0005\n"
     ]
    }
   ],
   "source": [
    "print(res) # actuall = 1050"
   ]
  },
  {
   "cell_type": "code",
   "execution_count": 36,
   "id": "ec893b3f",
   "metadata": {},
   "outputs": [
    {
     "name": "stdout",
     "output_type": "stream",
     "text": [
      "(19.195281017274173, 0.10511493682861328)\n"
     ]
    }
   ],
   "source": [
    "# put it all to singal function\n",
    "def integral_calc(f,n):\n",
    "    start = time.time()\n",
    "    localList = []\n",
    "    interval = (b-a)/n\n",
    "    for i in range(1,n,1):\n",
    "        localList.append(a+interval*i)\n",
    "    ValsRDD = sc.parallelize(localList)\n",
    "    calcRDD = ValsRDD.map(lambda x: f(a+x))\n",
    "    summedParts = calcRDD.reduce(lambda x, y: x+y)\n",
    "    res = ((b-a)/n)*(f(a)/2 + summedParts + f(b)/2)\n",
    "    stop = time.time()\n",
    "    return res, (stop - start)  # in seconds\n",
    "\n",
    "print(integral_calc(f,n))"
   ]
  },
  {
   "cell_type": "code",
   "execution_count": 34,
   "id": "8ab7c0ad",
   "metadata": {},
   "outputs": [
    {
     "name": "stdout",
     "output_type": "stream",
     "text": [
      "(19.195356879102476, 0.10413002967834473)\n"
     ]
    }
   ],
   "source": [
    "#b\n",
    "print(integral_calc(f,n= 10000)) # more acurate result"
   ]
  },
  {
   "cell_type": "code",
   "execution_count": 35,
   "id": "c5e9a5de",
   "metadata": {},
   "outputs": [
    {
     "name": "stdout",
     "output_type": "stream",
     "text": [
      "(19.195281017274173, 0.09124279022216797)\n"
     ]
    }
   ],
   "source": [
    "#c\n",
    "f = lambda x : 5*math.sin(x) +1\n",
    "print(integral_calc(f,n)) # actual = 19.195357"
   ]
  },
  {
   "cell_type": "code",
   "execution_count": 32,
   "id": "bc0f1ae2",
   "metadata": {},
   "outputs": [
    {
     "name": "stdout",
     "output_type": "stream",
     "text": [
      "(10.068839990183848, 0.12408781051635742)\n"
     ]
    }
   ],
   "source": [
    "#d\n",
    "print(integral_calc(f,n = 10000))"
   ]
  },
  {
   "cell_type": "code",
   "execution_count": 37,
   "id": "90ec0257",
   "metadata": {},
   "outputs": [
    {
     "name": "stdout",
     "output_type": "stream",
     "text": [
      "(10.068783187156145, 0.10550665855407715)\n",
      "(10.068839990183848, 0.09530854225158691)\n"
     ]
    }
   ],
   "source": [
    "#e, f\n",
    "f = lambda x : 5*math.sin(10*x) +1\n",
    "print(integral_calc(f,n)) # actual = 10.0688405\n",
    "\n",
    "print(integral_calc(f,n = 10000)) "
   ]
  },
  {
   "cell_type": "code",
   "execution_count": 38,
   "id": "358e2234",
   "metadata": {},
   "outputs": [
    {
     "name": "stdout",
     "output_type": "stream",
     "text": [
      "(44051.29868009817, 0.11998224258422852)\n",
      "(44050.93526052434, 0.10277056694030762)\n"
     ]
    }
   ],
   "source": [
    "#g, h\n",
    "f = lambda x : 2*math.pow(math.e,x)\n",
    "print(integral_calc(f,n)) # actual = 44050.93159\n",
    "\n",
    "print(integral_calc(f,n = 10000))"
   ]
  },
  {
   "cell_type": "code",
   "execution_count": null,
   "id": "cfcdcacd",
   "metadata": {},
   "outputs": [],
   "source": [
    "# conclution:\n",
    "# increasing the number of intervals increase accuracy of calculation.\n",
    "# using spark the calculation donr much faster than with calculator."
   ]
  }
 ],
 "metadata": {
  "kernelspec": {
   "display_name": "Python 3 (ipykernel)",
   "language": "python",
   "name": "python3"
  },
  "language_info": {
   "codemirror_mode": {
    "name": "ipython",
    "version": 3
   },
   "file_extension": ".py",
   "mimetype": "text/x-python",
   "name": "python",
   "nbconvert_exporter": "python",
   "pygments_lexer": "ipython3",
   "version": "3.9.12"
  }
 },
 "nbformat": 4,
 "nbformat_minor": 5
}
